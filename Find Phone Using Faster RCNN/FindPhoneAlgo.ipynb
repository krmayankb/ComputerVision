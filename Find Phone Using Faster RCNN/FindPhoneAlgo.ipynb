{
  "cells": [
    {
      "cell_type": "code",
      "execution_count": 2,
      "metadata": {
        "colab": {
          "base_uri": "https://localhost:8080/"
        },
        "id": "Ku8343EYpXGa",
        "outputId": "77eba52d-dbcd-4c2b-c7af-78e24cc3caeb"
      },
      "outputs": [
        {
          "output_type": "stream",
          "name": "stdout",
          "text": [
            "Collecting pascal-voc-writer\n",
            "  Downloading pascal_voc_writer-0.1.4-py2.py3-none-any.whl (4.0 kB)\n",
            "Requirement already satisfied: jinja2 in /usr/local/lib/python3.7/dist-packages (from pascal-voc-writer) (2.11.3)\n",
            "Requirement already satisfied: MarkupSafe>=0.23 in /usr/local/lib/python3.7/dist-packages (from jinja2->pascal-voc-writer) (2.0.1)\n",
            "Installing collected packages: pascal-voc-writer\n",
            "Successfully installed pascal-voc-writer-0.1.4\n"
          ]
        }
      ],
      "source": [
        "# !pip install pascal-voc-writer"
      ]
    },
    {
      "cell_type": "code",
      "source": [
        "from google.colab import drive\n",
        "drive.mount('/content/drive')"
      ],
      "metadata": {
        "colab": {
          "base_uri": "https://localhost:8080/"
        },
        "id": "LL5n7Ju4pZJ0",
        "outputId": "5f30b05f-7928-48a3-87bc-5107264416cd"
      },
      "execution_count": 1,
      "outputs": [
        {
          "output_type": "stream",
          "name": "stdout",
          "text": [
            "Mounted at /content/drive\n"
          ]
        }
      ]
    },
    {
      "cell_type": "code",
      "execution_count": 2,
      "metadata": {
        "id": "Q0IEwQkrpXGc"
      },
      "outputs": [],
      "source": [
        "import os\n",
        "import cv2 as cv\n",
        "import numpy\n",
        "import torch\n",
        "import torchvision\n",
        "import matplotlib.pyplot as plt\n",
        "from torch.utils.data import Dataset\n",
        "import pandas as pd"
      ]
    },
    {
      "cell_type": "code",
      "execution_count": 3,
      "metadata": {
        "id": "0bNXY8ZWpXGc"
      },
      "outputs": [],
      "source": [
        "# Load Dataset \n",
        "import collections\n",
        "from PIL import Image\n",
        "from torchvision.transforms import transforms as T\n",
        "\n",
        "class PhoneDataset(Dataset):\n",
        "    def __init__ (self, root, transform = None):\n",
        "        self.root = root\n",
        "        self.transform = transform\n",
        "        self.images = list(sorted([file for file in os.listdir(root) if file.endswith('.jpg')]))\n",
        "        self.annotations = self.generateAnnotFiles(self.root)\n",
        "    \n",
        "    def __getitem__(self, idx):\n",
        "        image_path = os.path.join(self.root, self.images[idx])\n",
        "        img = Image.open(image_path).convert(\"RGB\")\n",
        "        img = T.ToTensor()(img)\n",
        "\n",
        "        boxes = self.annotations[self.images[idx]]\n",
        "        boxes = torch.as_tensor(boxes, dtype=torch.float32)\n",
        "        boxes = boxes.unsqueeze(0)\n",
        "        # print(\"check: \", boxes.shape)\n",
        "        \n",
        "        labels = torch.ones((len(boxes),), dtype= torch.int64)\n",
        "        area = (boxes[:,3] - boxes [:,1]) * (boxes[:,2] - boxes[:,0])\n",
        "        iscrowd = torch.zeros((boxes.shape[0], ), dtype= torch.int64)\n",
        "        image_id = int(self.images[idx][:-4])\n",
        "\n",
        "        target = {}\n",
        "        target['boxes'] = boxes\n",
        "        target['labels'] = labels\n",
        "        target['area'] = area\n",
        "        target['iscrowd'] = iscrowd\n",
        "        target['image_id'] = torch.as_tensor(image_id, dtype = torch.int64)\n",
        "        # print(\"verify: \",target)\n",
        "        return img, target\n",
        "\n",
        "    def __len__(self):\n",
        "        return len(self.images)\n",
        "\n",
        "    def getDatasetInfo(self, foldername):\n",
        "        file = open(foldername + '/labels.txt', 'r')\n",
        "        lines = file.read().splitlines()\n",
        "        obj_coordinates = {}\n",
        "        for line in lines:\n",
        "            label = line.split(' ')\n",
        "            obj_coordinates[label[0]] = {'coordinates' : (float(label[1]), float(label[2]))}\n",
        "        for file in os.listdir(foldername):\n",
        "            if file.endswith('.jpg'):\n",
        "                # print(file)\n",
        "                img = cv.imread(foldername + \"/\" +file)\n",
        "                h, w, c = img.shape\n",
        "                obj_coordinates[file]['size'] = (h,w)\n",
        "        return obj_coordinates\n",
        "\n",
        "    def getPixelfromCoordsinX(self, img_w, x):\n",
        "        pix_x = img_w * x\n",
        "        return round(pix_x)\n",
        "\n",
        "    def getPixelfromCoordsinY(self, img_h, y):\n",
        "        pix_y = img_h * y\n",
        "        return round(pix_y)\n",
        "\n",
        "    def generateAnnotFiles(self, foldername):\n",
        "        dataset_info = self.getDatasetInfo(foldername)\n",
        "        dict = {}\n",
        "        for file in os.listdir(foldername):\n",
        "            if file.endswith('.jpg'):\n",
        "                h, w = dataset_info[file]['size']\n",
        "                c1, c2 = dataset_info[file]['coordinates']\n",
        "                # print(\"check:  \", file, \": \", (c1, c2),\": \",(c1*w, c2*h))\n",
        "                pix_x_min = self.getPixelfromCoordsinX(w, c1 - 0.05)\n",
        "                pix_y_min = self.getPixelfromCoordsinY(h, c2 - 0.05)\n",
        "                pix_x_max = self.getPixelfromCoordsinX(w, c1 + 0.05)\n",
        "                pix_y_max = self.getPixelfromCoordsinY(h, c2 + 0.05)\n",
        "                dict[file] = [pix_x_min, pix_y_min, pix_x_max, pix_y_max]\n",
        "        \n",
        "        return dict"
      ]
    },
    {
      "cell_type": "code",
      "execution_count": null,
      "metadata": {
        "id": "nvFBQXltpXGd",
        "outputId": "c5bb8ad3-32c2-4d4d-cd0c-b812d4b1517a"
      },
      "outputs": [
        {
          "name": "stdout",
          "output_type": "stream",
          "text": [
            "/Users/krmayank/Documents/Internship/Companies/Brain Corp/find_phone_task_4\n"
          ]
        }
      ],
      "source": [
        "# %cd .."
      ]
    },
    {
      "cell_type": "code",
      "execution_count": 4,
      "metadata": {
        "id": "nJMRX5UDpXGe"
      },
      "outputs": [],
      "source": [
        "from sklearn.model_selection import train_test_split\n",
        "# PATH = os.path.join(os.getcwd(), \"find_phone/\")\n",
        "PATH = '/content/drive/MyDrive/University of Washington - Seattle/Internship/BrainCorp/find_phone_task_4/find_phone'\n",
        "complete_dataset = PhoneDataset(PATH)\n",
        "train_dataset, val_dataset = train_test_split(complete_dataset, test_size=0.2, shuffle=True, random_state=43)"
      ]
    },
    {
      "cell_type": "code",
      "execution_count": 5,
      "metadata": {
        "colab": {
          "base_uri": "https://localhost:8080/"
        },
        "id": "KRAMBHXIpXGe",
        "outputId": "f27abfa3-22f5-4cee-a5e9-d9b27962df92"
      },
      "outputs": [
        {
          "output_type": "execute_result",
          "data": {
            "text/plain": [
              "(tensor([[[0.4784, 0.4824, 0.5059,  ..., 0.6824, 0.6863, 0.6863],\n",
              "          [0.4745, 0.4824, 0.5020,  ..., 0.6824, 0.6745, 0.6549],\n",
              "          [0.4863, 0.4980, 0.5137,  ..., 0.6745, 0.6941, 0.6902],\n",
              "          ...,\n",
              "          [0.4745, 0.4863, 0.5059,  ..., 0.6824, 0.6627, 0.6549],\n",
              "          [0.4667, 0.4784, 0.5059,  ..., 0.6824, 0.6667, 0.6627],\n",
              "          [0.4588, 0.4588, 0.4824,  ..., 0.6706, 0.6863, 0.6824]],\n",
              " \n",
              "         [[0.4627, 0.4667, 0.4902,  ..., 0.6667, 0.6745, 0.6745],\n",
              "          [0.4588, 0.4667, 0.4863,  ..., 0.6667, 0.6627, 0.6431],\n",
              "          [0.4706, 0.4824, 0.4980,  ..., 0.6588, 0.6824, 0.6784],\n",
              "          ...,\n",
              "          [0.4549, 0.4667, 0.4863,  ..., 0.6667, 0.6471, 0.6392],\n",
              "          [0.4471, 0.4588, 0.4863,  ..., 0.6667, 0.6510, 0.6471],\n",
              "          [0.4392, 0.4392, 0.4627,  ..., 0.6549, 0.6706, 0.6667]],\n",
              " \n",
              "         [[0.4510, 0.4549, 0.4784,  ..., 0.6549, 0.6549, 0.6549],\n",
              "          [0.4471, 0.4549, 0.4745,  ..., 0.6549, 0.6431, 0.6235],\n",
              "          [0.4588, 0.4706, 0.4863,  ..., 0.6471, 0.6627, 0.6588],\n",
              "          ...,\n",
              "          [0.4431, 0.4549, 0.4745,  ..., 0.6627, 0.6431, 0.6353],\n",
              "          [0.4353, 0.4471, 0.4745,  ..., 0.6627, 0.6471, 0.6431],\n",
              "          [0.4275, 0.4275, 0.4510,  ..., 0.6510, 0.6667, 0.6627]]]),\n",
              " {'area': tensor([1568.]),\n",
              "  'boxes': tensor([[382.,  28., 431.,  60.]]),\n",
              "  'image_id': tensor(0),\n",
              "  'iscrowd': tensor([0]),\n",
              "  'labels': tensor([1])})"
            ]
          },
          "metadata": {},
          "execution_count": 5
        }
      ],
      "source": [
        "complete_dataset.__getitem__(0)"
      ]
    },
    {
      "cell_type": "code",
      "execution_count": 6,
      "metadata": {
        "colab": {
          "base_uri": "https://localhost:8080/",
          "height": 86,
          "referenced_widgets": [
            "eaae0417056a4d83a04556877dc42fd9",
            "2d7d7e7d494349a18a39175f52470c7d",
            "85f367993427448eb1b450ff159b3b57",
            "4b83c52489564a83ac27710b75f25907",
            "811682add3944be2ae9f9e7175b3b963",
            "c6145f4d20a6485cbe4903358b39201c",
            "f6b7faf4d0684f6c98eb42efa79e85b4",
            "d0510875340842adbc96b0f1d29aa004",
            "c56c4f075d6f432d89c8aa4daafd3897",
            "68cd096c14b94e648fd8f314ab467549",
            "567d40572782477084c753fcbbed1b64"
          ]
        },
        "id": "qqAPa4BBpXGe",
        "outputId": "c1067233-60b3-47d5-ed41-0cc565dd2f0c"
      },
      "outputs": [
        {
          "output_type": "stream",
          "name": "stderr",
          "text": [
            "Downloading: \"https://download.pytorch.org/models/fasterrcnn_resnet50_fpn_coco-258fb6c6.pth\" to /root/.cache/torch/hub/checkpoints/fasterrcnn_resnet50_fpn_coco-258fb6c6.pth\n"
          ]
        },
        {
          "output_type": "display_data",
          "data": {
            "text/plain": [
              "  0%|          | 0.00/160M [00:00<?, ?B/s]"
            ],
            "application/vnd.jupyter.widget-view+json": {
              "version_major": 2,
              "version_minor": 0,
              "model_id": "eaae0417056a4d83a04556877dc42fd9"
            }
          },
          "metadata": {}
        }
      ],
      "source": [
        "import torchvision\n",
        "from torchvision.models.detection.faster_rcnn import FastRCNNPredictor\n",
        "\n",
        "# load a model pre-trained on COCO\n",
        "model = torchvision.models.detection.fasterrcnn_resnet50_fpn(pretrained=True)\n",
        "\n",
        "# replace the classifier with a new one, that has num_classes which is user-defined\n",
        "num_classes = 2  # 1 class (person) + background\n",
        "# get number of input features for the classifier\n",
        "in_features = model.roi_heads.box_predictor.cls_score.in_features\n",
        "# replace the pre-trained head with a new one\n",
        "model.roi_heads.box_predictor = FastRCNNPredictor(in_features, num_classes)"
      ]
    },
    {
      "cell_type": "code",
      "execution_count": null,
      "metadata": {
        "id": "iCyWgwRKpXGf",
        "outputId": "9740732b-7c02-40c1-c29b-b08fcdcf5e7f"
      },
      "outputs": [
        {
          "name": "stdout",
          "output_type": "stream",
          "text": [
            "Collecting pycocotools\n",
            "  Downloading pycocotools-2.0.4.tar.gz (106 kB)\n",
            "\u001b[K     |████████████████████████████████| 106 kB 4.2 MB/s eta 0:00:01\n",
            "\u001b[?25h  Installing build dependencies ... \u001b[?25ldone\n",
            "\u001b[?25h  Getting requirements to build wheel ... \u001b[?25ldone\n",
            "\u001b[?25h    Preparing wheel metadata ... \u001b[?25ldone\n",
            "\u001b[?25hRequirement already satisfied: matplotlib>=2.1.0 in /Users/krmayank/opt/anaconda3/lib/python3.9/site-packages (from pycocotools) (3.4.3)\n",
            "Requirement already satisfied: numpy in /Users/krmayank/opt/anaconda3/lib/python3.9/site-packages (from pycocotools) (1.20.3)\n",
            "Requirement already satisfied: kiwisolver>=1.0.1 in /Users/krmayank/opt/anaconda3/lib/python3.9/site-packages (from matplotlib>=2.1.0->pycocotools) (1.3.1)\n",
            "Requirement already satisfied: pillow>=6.2.0 in /Users/krmayank/opt/anaconda3/lib/python3.9/site-packages (from matplotlib>=2.1.0->pycocotools) (8.4.0)\n",
            "Requirement already satisfied: cycler>=0.10 in /Users/krmayank/opt/anaconda3/lib/python3.9/site-packages (from matplotlib>=2.1.0->pycocotools) (0.10.0)\n",
            "Requirement already satisfied: python-dateutil>=2.7 in /Users/krmayank/opt/anaconda3/lib/python3.9/site-packages (from matplotlib>=2.1.0->pycocotools) (2.8.2)\n",
            "Requirement already satisfied: pyparsing>=2.2.1 in /Users/krmayank/opt/anaconda3/lib/python3.9/site-packages (from matplotlib>=2.1.0->pycocotools) (3.0.4)\n",
            "Requirement already satisfied: six in /Users/krmayank/opt/anaconda3/lib/python3.9/site-packages (from cycler>=0.10->matplotlib>=2.1.0->pycocotools) (1.16.0)\n",
            "Building wheels for collected packages: pycocotools\n",
            "  Building wheel for pycocotools (PEP 517) ... \u001b[?25ldone\n",
            "\u001b[?25h  Created wheel for pycocotools: filename=pycocotools-2.0.4-cp39-cp39-macosx_10_9_x86_64.whl size=85974 sha256=772697e896356d403dc2c4015abebd2df53dcf43882326ad8eb28644e3836318\n",
            "  Stored in directory: /Users/krmayank/Library/Caches/pip/wheels/7e/b0/8e/f2c3593944ead79f5146d057d1310ee6d7b60d30b826779846\n",
            "Successfully built pycocotools\n",
            "Installing collected packages: pycocotools\n",
            "Successfully installed pycocotools-2.0.4\n"
          ]
        }
      ],
      "source": [
        "# !pip install pycocotools"
      ]
    },
    {
      "cell_type": "code",
      "execution_count": 9,
      "metadata": {
        "colab": {
          "base_uri": "https://localhost:8080/"
        },
        "id": "lIPiVLEFpXGf",
        "outputId": "ea18d45b-e621-4b27-b02a-602368e4926d"
      },
      "outputs": [
        {
          "output_type": "stream",
          "name": "stdout",
          "text": [
            "Cloning into 'vision'...\n",
            "remote: Enumerating objects: 118542, done.\u001b[K\n",
            "remote: Counting objects: 100% (11248/11248), done.\u001b[K\n",
            "remote: Compressing objects: 100% (980/980), done.\u001b[K\n",
            "remote: Total 118542 (delta 10347), reused 11007 (delta 10212), pack-reused 107294\u001b[K\n",
            "Receiving objects: 100% (118542/118542), 232.41 MiB | 32.73 MiB/s, done.\n",
            "Resolving deltas: 100% (102991/102991), done.\n",
            "fatal: not a git repository (or any of the parent directories): .git\n"
          ]
        }
      ],
      "source": [
        "# !git clone https://github.com/pytorch/vision.git\n",
        "# !cd vision\n",
        "# !git checkout v0.8.2"
      ]
    },
    {
      "cell_type": "code",
      "execution_count": null,
      "metadata": {
        "id": "YvDoo1QipXGf",
        "outputId": "b2f70629-0c61-4487-aedf-ed3a7ab07215"
      },
      "outputs": [
        {
          "name": "stdout",
          "output_type": "stream",
          "text": [
            "CMakeLists.txt     \u001b[34mcmake\u001b[m\u001b[m              \u001b[34mpackaging\u001b[m\u001b[m          \u001b[34mtorchvision\u001b[m\u001b[m\n",
            "CODE_OF_CONDUCT.md \u001b[34mdocs\u001b[m\u001b[m               \u001b[34mreferences\u001b[m\u001b[m         tox.ini\n",
            "LICENSE            \u001b[34mexamples\u001b[m\u001b[m           setup.cfg          \u001b[34mtravis-scripts\u001b[m\u001b[m\n",
            "MANIFEST.in        hubconf.py         setup.py           \u001b[34mvision\u001b[m\u001b[m\n",
            "README.rst         mypy.ini           \u001b[34mtest\u001b[m\u001b[m\n",
            "/Users/krmayank/Documents/Internship/Companies/Brain Corp/find_phone_task_4/vision/vision\n",
            "CMakeLists.txt         \u001b[34mdocs\u001b[m\u001b[m                   \u001b[34mreferences\u001b[m\u001b[m\n",
            "CODE_OF_CONDUCT.md     \u001b[34mexamples\u001b[m\u001b[m               \u001b[34mscripts\u001b[m\u001b[m\n",
            "CONTRIBUTING.md        \u001b[34mgallery\u001b[m\u001b[m                setup.cfg\n",
            "CONTRIBUTING_MODELS.md hubconf.py             setup.py\n",
            "LICENSE                \u001b[34mios\u001b[m\u001b[m                    \u001b[34mtest\u001b[m\u001b[m\n",
            "MANIFEST.in            mypy.ini               \u001b[34mtorchvision\u001b[m\u001b[m\n",
            "README.rst             \u001b[34mpackaging\u001b[m\u001b[m              version.txt\n",
            "\u001b[34mandroid\u001b[m\u001b[m                pyproject.toml\n",
            "\u001b[34mcmake\u001b[m\u001b[m                  pytest.ini\n"
          ]
        }
      ],
      "source": [
        "# !ls\n",
        "# %cd ./vision\n",
        "# !ls\n",
        "# !cp references/detection/utils.py ../\n",
        "# !cp references/detection/transforms.py ../\n",
        "# !cp references/detection/coco_eval.py ../\n",
        "# !cp references/detection/engine.py ../\n",
        "# !cp references/detection/coco_utils.py ../"
      ]
    },
    {
      "cell_type": "code",
      "execution_count": 10,
      "metadata": {
        "id": "shuBVK0JpXGg"
      },
      "outputs": [],
      "source": [
        "### this is from pytorch tutorial that includes MASK RCNN as well.\n",
        "import sys\n",
        "sys.path.append('/content/drive/MyDrive/University of Washington - Seattle/Internship/BrainCorp/find_phone_task_4')\n",
        "from engine import train_one_epoch, evaluate\n",
        "import utils\n",
        "from tqdm import tqdm\n",
        "\n",
        "def train(model, full_dataset, num_epochs = 10):\n",
        "    device = torch.device('cuda') if torch.cuda.is_available() else torch.device('cpu')\n",
        "    \n",
        "    dataset, dataset_test = train_test_split(full_dataset, test_size=0.2, shuffle=True, random_state=43)\n",
        "    \n",
        "    # define training and validation data loaders\n",
        "    data_loader = torch.utils.data.DataLoader(dataset, batch_size=2, shuffle=True, \n",
        "                                                num_workers=4,collate_fn=utils.collate_fn)\n",
        "\n",
        "    data_loader_test = torch.utils.data.DataLoader(dataset_test, batch_size=1, shuffle=False, \n",
        "                                                num_workers=4,collate_fn=utils.collate_fn)\n",
        "\n",
        "    model.to(device) # send model to appropriate device\n",
        "\n",
        "    # Optimizer\n",
        "    params = [p for p in model.parameters() if p.requires_grad]\n",
        "    optimizer = torch.optim.SGD(params, lr=0.005,\n",
        "                                momentum=0.9, weight_decay=0.0005)\n",
        "    \n",
        "    # Schedular\n",
        "    lr_scheduler = torch.optim.lr_scheduler.StepLR(optimizer,\n",
        "                                                   step_size=3,\n",
        "                                                   gamma=0.1)\n",
        "\n",
        "    for epoch in tqdm(range(num_epochs)):\n",
        "        # train for one epoch, printing every 10 iterations\n",
        "        train_one_epoch(model, optimizer, data_loader, device, epoch, print_freq=10)\n",
        "        lr_scheduler.step() # update the learning rate\n",
        "        evaluate(model, data_loader_test, device=device) # evaluate on the test dataset\n",
        "\n",
        "    print(\"Training  and Evaluation Completed!!\")"
      ]
    },
    {
      "cell_type": "code",
      "execution_count": 11,
      "metadata": {
        "colab": {
          "base_uri": "https://localhost:8080/"
        },
        "id": "zcNf-zy2pXGg",
        "outputId": "8328c80d-225c-4a80-b188-d10b2563c31a"
      },
      "outputs": [
        {
          "output_type": "stream",
          "name": "stderr",
          "text": [
            "/usr/local/lib/python3.7/dist-packages/torch/utils/data/dataloader.py:481: UserWarning: This DataLoader will create 4 worker processes in total. Our suggested max number of worker in current system is 2, which is smaller than what this DataLoader is going to create. Please be aware that excessive worker creation might get DataLoader running slow or even freeze, lower the worker number to avoid potential slowness/freeze if necessary.\n",
            "  cpuset_checked))\n",
            "  0%|          | 0/10 [00:00<?, ?it/s]/usr/local/lib/python3.7/dist-packages/torch/functional.py:445: UserWarning: torch.meshgrid: in an upcoming release, it will be required to pass the indexing argument. (Triggered internally at  ../aten/src/ATen/native/TensorShape.cpp:2157.)\n",
            "  return _VF.meshgrid(tensors, **kwargs)  # type: ignore[attr-defined]\n"
          ]
        },
        {
          "output_type": "stream",
          "name": "stdout",
          "text": [
            "Epoch: [0]  [ 0/52]  eta: 0:01:45  lr: 0.000103  loss: 0.5883 (0.5883)  loss_classifier: 0.4120 (0.4120)  loss_box_reg: 0.1385 (0.1385)  loss_objectness: 0.0358 (0.0358)  loss_rpn_box_reg: 0.0020 (0.0020)  time: 2.0236  data: 0.1886  max mem: 2335\n",
            "Epoch: [0]  [10/52]  eta: 0:01:02  lr: 0.001082  loss: 0.3729 (0.4082)  loss_classifier: 0.2167 (0.2478)  loss_box_reg: 0.1343 (0.1411)  loss_objectness: 0.0170 (0.0173)  loss_rpn_box_reg: 0.0020 (0.0020)  time: 1.4858  data: 0.0244  max mem: 2601\n",
            "Epoch: [0]  [20/52]  eta: 0:00:47  lr: 0.002062  loss: 0.2869 (0.3437)  loss_classifier: 0.1026 (0.1689)  loss_box_reg: 0.1652 (0.1618)  loss_objectness: 0.0044 (0.0108)  loss_rpn_box_reg: 0.0021 (0.0022)  time: 1.4594  data: 0.0092  max mem: 2601\n",
            "Epoch: [0]  [30/52]  eta: 0:00:32  lr: 0.003041  loss: 0.2357 (0.3025)  loss_classifier: 0.0527 (0.1287)  loss_box_reg: 0.1701 (0.1639)  loss_objectness: 0.0015 (0.0077)  loss_rpn_box_reg: 0.0021 (0.0022)  time: 1.4533  data: 0.0092  max mem: 2601\n",
            "Epoch: [0]  [40/52]  eta: 0:00:17  lr: 0.004021  loss: 0.2064 (0.2761)  loss_classifier: 0.0440 (0.1078)  loss_box_reg: 0.1620 (0.1603)  loss_objectness: 0.0006 (0.0060)  loss_rpn_box_reg: 0.0013 (0.0020)  time: 1.4260  data: 0.0082  max mem: 2601\n",
            "Epoch: [0]  [50/52]  eta: 0:00:02  lr: 0.005000  loss: 0.1703 (0.2529)  loss_classifier: 0.0342 (0.0934)  loss_box_reg: 0.1277 (0.1528)  loss_objectness: 0.0001 (0.0050)  loss_rpn_box_reg: 0.0009 (0.0018)  time: 1.4340  data: 0.0090  max mem: 2601\n",
            "Epoch: [0]  [51/52]  eta: 0:00:01  lr: 0.005000  loss: 0.1690 (0.2506)  loss_classifier: 0.0340 (0.0922)  loss_box_reg: 0.1270 (0.1517)  loss_objectness: 0.0001 (0.0049)  loss_rpn_box_reg: 0.0009 (0.0017)  time: 1.4015  data: 0.0088  max mem: 2601\n",
            "Epoch: [0] Total time: 0:01:14 (1.4423 s / it)\n",
            "creating index...\n",
            "index created!\n",
            "Test:  [ 0/26]  eta: 0:00:12  model_time: 0.3342 (0.3342)  evaluator_time: 0.0023 (0.0023)  time: 0.4789  data: 0.1410  max mem: 2601\n"
          ]
        },
        {
          "output_type": "stream",
          "name": "stderr",
          "text": [
            "\r 10%|█         | 1/10 [01:24<12:41, 84.59s/it]"
          ]
        },
        {
          "output_type": "stream",
          "name": "stdout",
          "text": [
            "Test:  [25/26]  eta: 0:00:00  model_time: 0.3446 (0.3517)  evaluator_time: 0.0012 (0.0014)  time: 0.3618  data: 0.0041  max mem: 2601\n",
            "Test: Total time: 0:00:09 (0.3678 s / it)\n",
            "Averaged stats: model_time: 0.3446 (0.3517)  evaluator_time: 0.0012 (0.0014)\n",
            "Accumulating evaluation results...\n",
            "DONE (t=0.01s).\n",
            "IoU metric: bbox\n",
            " Average Precision  (AP) @[ IoU=0.50:0.95 | area=   all | maxDets=100 ] = 0.570\n",
            " Average Precision  (AP) @[ IoU=0.50      | area=   all | maxDets=100 ] = 1.000\n",
            " Average Precision  (AP) @[ IoU=0.75      | area=   all | maxDets=100 ] = 0.542\n",
            " Average Precision  (AP) @[ IoU=0.50:0.95 | area= small | maxDets=100 ] = -1.000\n",
            " Average Precision  (AP) @[ IoU=0.50:0.95 | area=medium | maxDets=100 ] = 0.570\n",
            " Average Precision  (AP) @[ IoU=0.50:0.95 | area= large | maxDets=100 ] = -1.000\n",
            " Average Recall     (AR) @[ IoU=0.50:0.95 | area=   all | maxDets=  1 ] = 0.619\n",
            " Average Recall     (AR) @[ IoU=0.50:0.95 | area=   all | maxDets= 10 ] = 0.619\n",
            " Average Recall     (AR) @[ IoU=0.50:0.95 | area=   all | maxDets=100 ] = 0.619\n",
            " Average Recall     (AR) @[ IoU=0.50:0.95 | area= small | maxDets=100 ] = -1.000\n",
            " Average Recall     (AR) @[ IoU=0.50:0.95 | area=medium | maxDets=100 ] = 0.619\n",
            " Average Recall     (AR) @[ IoU=0.50:0.95 | area= large | maxDets=100 ] = -1.000\n",
            "Epoch: [1]  [ 0/52]  eta: 0:01:22  lr: 0.005000  loss: 0.1313 (0.1313)  loss_classifier: 0.0316 (0.0316)  loss_box_reg: 0.0960 (0.0960)  loss_objectness: 0.0029 (0.0029)  loss_rpn_box_reg: 0.0007 (0.0007)  time: 1.5908  data: 0.1469  max mem: 2601\n",
            "Epoch: [1]  [10/52]  eta: 0:01:01  lr: 0.005000  loss: 0.1176 (0.1192)  loss_classifier: 0.0251 (0.0277)  loss_box_reg: 0.0903 (0.0904)  loss_objectness: 0.0000 (0.0004)  loss_rpn_box_reg: 0.0007 (0.0007)  time: 1.4592  data: 0.0215  max mem: 2601\n",
            "Epoch: [1]  [20/52]  eta: 0:00:46  lr: 0.005000  loss: 0.1157 (0.1149)  loss_classifier: 0.0252 (0.0279)  loss_box_reg: 0.0868 (0.0861)  loss_objectness: 0.0000 (0.0003)  loss_rpn_box_reg: 0.0006 (0.0007)  time: 1.4458  data: 0.0087  max mem: 2601\n",
            "Epoch: [1]  [30/52]  eta: 0:00:31  lr: 0.005000  loss: 0.1056 (0.1148)  loss_classifier: 0.0271 (0.0275)  loss_box_reg: 0.0762 (0.0864)  loss_objectness: 0.0000 (0.0002)  loss_rpn_box_reg: 0.0006 (0.0007)  time: 1.4462  data: 0.0083  max mem: 2601\n",
            "Epoch: [1]  [40/52]  eta: 0:00:17  lr: 0.005000  loss: 0.1226 (0.1190)  loss_classifier: 0.0284 (0.0283)  loss_box_reg: 0.0954 (0.0897)  loss_objectness: 0.0000 (0.0003)  loss_rpn_box_reg: 0.0006 (0.0007)  time: 1.4553  data: 0.0081  max mem: 2601\n",
            "Epoch: [1]  [50/52]  eta: 0:00:02  lr: 0.005000  loss: 0.1226 (0.1187)  loss_classifier: 0.0278 (0.0281)  loss_box_reg: 0.0954 (0.0896)  loss_objectness: 0.0000 (0.0003)  loss_rpn_box_reg: 0.0004 (0.0006)  time: 1.4532  data: 0.0080  max mem: 2601\n",
            "Epoch: [1]  [51/52]  eta: 0:00:01  lr: 0.005000  loss: 0.1226 (0.1193)  loss_classifier: 0.0279 (0.0283)  loss_box_reg: 0.0954 (0.0901)  loss_objectness: 0.0000 (0.0003)  loss_rpn_box_reg: 0.0004 (0.0006)  time: 1.4187  data: 0.0079  max mem: 2601\n",
            "Epoch: [1] Total time: 0:01:14 (1.4409 s / it)\n",
            "creating index...\n",
            "index created!\n",
            "Test:  [ 0/26]  eta: 0:00:12  model_time: 0.3329 (0.3329)  evaluator_time: 0.0025 (0.0025)  time: 0.4840  data: 0.1473  max mem: 2601\n"
          ]
        },
        {
          "output_type": "stream",
          "name": "stderr",
          "text": [
            "\r 20%|██        | 2/10 [02:48<11:15, 84.40s/it]"
          ]
        },
        {
          "output_type": "stream",
          "name": "stdout",
          "text": [
            "Test:  [25/26]  eta: 0:00:00  model_time: 0.3407 (0.3423)  evaluator_time: 0.0011 (0.0012)  time: 0.3484  data: 0.0040  max mem: 2601\n",
            "Test: Total time: 0:00:09 (0.3582 s / it)\n",
            "Averaged stats: model_time: 0.3407 (0.3423)  evaluator_time: 0.0011 (0.0012)\n",
            "Accumulating evaluation results...\n",
            "DONE (t=0.01s).\n",
            "IoU metric: bbox\n",
            " Average Precision  (AP) @[ IoU=0.50:0.95 | area=   all | maxDets=100 ] = 0.597\n",
            " Average Precision  (AP) @[ IoU=0.50      | area=   all | maxDets=100 ] = 1.000\n",
            " Average Precision  (AP) @[ IoU=0.75      | area=   all | maxDets=100 ] = 0.674\n",
            " Average Precision  (AP) @[ IoU=0.50:0.95 | area= small | maxDets=100 ] = -1.000\n",
            " Average Precision  (AP) @[ IoU=0.50:0.95 | area=medium | maxDets=100 ] = 0.597\n",
            " Average Precision  (AP) @[ IoU=0.50:0.95 | area= large | maxDets=100 ] = -1.000\n",
            " Average Recall     (AR) @[ IoU=0.50:0.95 | area=   all | maxDets=  1 ] = 0.658\n",
            " Average Recall     (AR) @[ IoU=0.50:0.95 | area=   all | maxDets= 10 ] = 0.658\n",
            " Average Recall     (AR) @[ IoU=0.50:0.95 | area=   all | maxDets=100 ] = 0.658\n",
            " Average Recall     (AR) @[ IoU=0.50:0.95 | area= small | maxDets=100 ] = -1.000\n",
            " Average Recall     (AR) @[ IoU=0.50:0.95 | area=medium | maxDets=100 ] = 0.658\n",
            " Average Recall     (AR) @[ IoU=0.50:0.95 | area= large | maxDets=100 ] = -1.000\n",
            "Epoch: [2]  [ 0/52]  eta: 0:01:23  lr: 0.005000  loss: 0.0952 (0.0952)  loss_classifier: 0.0240 (0.0240)  loss_box_reg: 0.0708 (0.0708)  loss_objectness: 0.0000 (0.0000)  loss_rpn_box_reg: 0.0004 (0.0004)  time: 1.5974  data: 0.1622  max mem: 2601\n",
            "Epoch: [2]  [10/52]  eta: 0:01:01  lr: 0.005000  loss: 0.0984 (0.0915)  loss_classifier: 0.0225 (0.0232)  loss_box_reg: 0.0709 (0.0678)  loss_objectness: 0.0000 (0.0001)  loss_rpn_box_reg: 0.0004 (0.0005)  time: 1.4566  data: 0.0230  max mem: 2601\n",
            "Epoch: [2]  [20/52]  eta: 0:00:46  lr: 0.005000  loss: 0.0866 (0.0879)  loss_classifier: 0.0214 (0.0224)  loss_box_reg: 0.0624 (0.0647)  loss_objectness: 0.0000 (0.0002)  loss_rpn_box_reg: 0.0004 (0.0005)  time: 1.4433  data: 0.0088  max mem: 2601\n",
            "Epoch: [2]  [30/52]  eta: 0:00:31  lr: 0.005000  loss: 0.0856 (0.0879)  loss_classifier: 0.0212 (0.0224)  loss_box_reg: 0.0612 (0.0650)  loss_objectness: 0.0000 (0.0002)  loss_rpn_box_reg: 0.0003 (0.0004)  time: 1.4445  data: 0.0083  max mem: 2601\n",
            "Epoch: [2]  [40/52]  eta: 0:00:17  lr: 0.005000  loss: 0.0856 (0.0889)  loss_classifier: 0.0205 (0.0223)  loss_box_reg: 0.0612 (0.0662)  loss_objectness: 0.0000 (0.0001)  loss_rpn_box_reg: 0.0002 (0.0004)  time: 1.4448  data: 0.0082  max mem: 2601\n",
            "Epoch: [2]  [50/52]  eta: 0:00:02  lr: 0.005000  loss: 0.0663 (0.0852)  loss_classifier: 0.0175 (0.0213)  loss_box_reg: 0.0509 (0.0634)  loss_objectness: 0.0000 (0.0001)  loss_rpn_box_reg: 0.0002 (0.0003)  time: 1.4436  data: 0.0082  max mem: 2601\n",
            "Epoch: [2]  [51/52]  eta: 0:00:01  lr: 0.005000  loss: 0.0700 (0.0849)  loss_classifier: 0.0188 (0.0213)  loss_box_reg: 0.0509 (0.0631)  loss_objectness: 0.0000 (0.0001)  loss_rpn_box_reg: 0.0002 (0.0003)  time: 1.4095  data: 0.0080  max mem: 2601\n",
            "Epoch: [2] Total time: 0:01:14 (1.4359 s / it)\n",
            "creating index...\n",
            "index created!\n",
            "Test:  [ 0/26]  eta: 0:00:12  model_time: 0.3350 (0.3350)  evaluator_time: 0.0019 (0.0019)  time: 0.4818  data: 0.1435  max mem: 2601\n"
          ]
        },
        {
          "output_type": "stream",
          "name": "stderr",
          "text": [
            "\r 30%|███       | 3/10 [04:12<09:49, 84.24s/it]"
          ]
        },
        {
          "output_type": "stream",
          "name": "stdout",
          "text": [
            "Test:  [25/26]  eta: 0:00:00  model_time: 0.3436 (0.3435)  evaluator_time: 0.0011 (0.0012)  time: 0.3501  data: 0.0040  max mem: 2601\n",
            "Test: Total time: 0:00:09 (0.3594 s / it)\n",
            "Averaged stats: model_time: 0.3436 (0.3435)  evaluator_time: 0.0011 (0.0012)\n",
            "Accumulating evaluation results...\n",
            "DONE (t=0.01s).\n",
            "IoU metric: bbox\n",
            " Average Precision  (AP) @[ IoU=0.50:0.95 | area=   all | maxDets=100 ] = 0.754\n",
            " Average Precision  (AP) @[ IoU=0.50      | area=   all | maxDets=100 ] = 1.000\n",
            " Average Precision  (AP) @[ IoU=0.75      | area=   all | maxDets=100 ] = 1.000\n",
            " Average Precision  (AP) @[ IoU=0.50:0.95 | area= small | maxDets=100 ] = -1.000\n",
            " Average Precision  (AP) @[ IoU=0.50:0.95 | area=medium | maxDets=100 ] = 0.754\n",
            " Average Precision  (AP) @[ IoU=0.50:0.95 | area= large | maxDets=100 ] = -1.000\n",
            " Average Recall     (AR) @[ IoU=0.50:0.95 | area=   all | maxDets=  1 ] = 0.792\n",
            " Average Recall     (AR) @[ IoU=0.50:0.95 | area=   all | maxDets= 10 ] = 0.792\n",
            " Average Recall     (AR) @[ IoU=0.50:0.95 | area=   all | maxDets=100 ] = 0.792\n",
            " Average Recall     (AR) @[ IoU=0.50:0.95 | area= small | maxDets=100 ] = -1.000\n",
            " Average Recall     (AR) @[ IoU=0.50:0.95 | area=medium | maxDets=100 ] = 0.792\n",
            " Average Recall     (AR) @[ IoU=0.50:0.95 | area= large | maxDets=100 ] = -1.000\n",
            "Epoch: [3]  [ 0/52]  eta: 0:01:23  lr: 0.000500  loss: 0.0616 (0.0616)  loss_classifier: 0.0200 (0.0200)  loss_box_reg: 0.0415 (0.0415)  loss_objectness: 0.0000 (0.0000)  loss_rpn_box_reg: 0.0001 (0.0001)  time: 1.6130  data: 0.1703  max mem: 2601\n",
            "Epoch: [3]  [10/52]  eta: 0:01:01  lr: 0.000500  loss: 0.0658 (0.0694)  loss_classifier: 0.0200 (0.0194)  loss_box_reg: 0.0432 (0.0498)  loss_objectness: 0.0000 (0.0001)  loss_rpn_box_reg: 0.0002 (0.0002)  time: 1.4622  data: 0.0244  max mem: 2601\n",
            "Epoch: [3]  [20/52]  eta: 0:00:46  lr: 0.000500  loss: 0.0575 (0.0616)  loss_classifier: 0.0185 (0.0181)  loss_box_reg: 0.0410 (0.0433)  loss_objectness: 0.0000 (0.0000)  loss_rpn_box_reg: 0.0002 (0.0002)  time: 1.4472  data: 0.0095  max mem: 2601\n",
            "Epoch: [3]  [30/52]  eta: 0:00:31  lr: 0.000500  loss: 0.0564 (0.0602)  loss_classifier: 0.0157 (0.0176)  loss_box_reg: 0.0403 (0.0424)  loss_objectness: 0.0000 (0.0000)  loss_rpn_box_reg: 0.0001 (0.0002)  time: 1.4459  data: 0.0091  max mem: 2601\n",
            "Epoch: [3]  [40/52]  eta: 0:00:17  lr: 0.000500  loss: 0.0530 (0.0568)  loss_classifier: 0.0156 (0.0171)  loss_box_reg: 0.0350 (0.0394)  loss_objectness: 0.0000 (0.0000)  loss_rpn_box_reg: 0.0001 (0.0002)  time: 1.4455  data: 0.0088  max mem: 2601\n",
            "Epoch: [3]  [50/52]  eta: 0:00:02  lr: 0.000500  loss: 0.0487 (0.0573)  loss_classifier: 0.0164 (0.0173)  loss_box_reg: 0.0322 (0.0398)  loss_objectness: 0.0000 (0.0000)  loss_rpn_box_reg: 0.0001 (0.0002)  time: 1.4472  data: 0.0084  max mem: 2601\n",
            "Epoch: [3]  [51/52]  eta: 0:00:01  lr: 0.000500  loss: 0.0518 (0.0574)  loss_classifier: 0.0166 (0.0175)  loss_box_reg: 0.0345 (0.0397)  loss_objectness: 0.0000 (0.0000)  loss_rpn_box_reg: 0.0001 (0.0002)  time: 1.4137  data: 0.0082  max mem: 2601\n",
            "Epoch: [3] Total time: 0:01:14 (1.4392 s / it)\n",
            "creating index...\n",
            "index created!\n",
            "Test:  [ 0/26]  eta: 0:00:13  model_time: 0.3352 (0.3352)  evaluator_time: 0.0018 (0.0018)  time: 0.5136  data: 0.1753  max mem: 2601\n"
          ]
        },
        {
          "output_type": "stream",
          "name": "stderr",
          "text": [
            "\r 40%|████      | 4/10 [05:37<08:25, 84.24s/it]"
          ]
        },
        {
          "output_type": "stream",
          "name": "stdout",
          "text": [
            "Test:  [25/26]  eta: 0:00:00  model_time: 0.3429 (0.3431)  evaluator_time: 0.0011 (0.0012)  time: 0.3499  data: 0.0049  max mem: 2601\n",
            "Test: Total time: 0:00:09 (0.3608 s / it)\n",
            "Averaged stats: model_time: 0.3429 (0.3431)  evaluator_time: 0.0011 (0.0012)\n",
            "Accumulating evaluation results...\n",
            "DONE (t=0.01s).\n",
            "IoU metric: bbox\n",
            " Average Precision  (AP) @[ IoU=0.50:0.95 | area=   all | maxDets=100 ] = 0.778\n",
            " Average Precision  (AP) @[ IoU=0.50      | area=   all | maxDets=100 ] = 1.000\n",
            " Average Precision  (AP) @[ IoU=0.75      | area=   all | maxDets=100 ] = 0.940\n",
            " Average Precision  (AP) @[ IoU=0.50:0.95 | area= small | maxDets=100 ] = -1.000\n",
            " Average Precision  (AP) @[ IoU=0.50:0.95 | area=medium | maxDets=100 ] = 0.778\n",
            " Average Precision  (AP) @[ IoU=0.50:0.95 | area= large | maxDets=100 ] = -1.000\n",
            " Average Recall     (AR) @[ IoU=0.50:0.95 | area=   all | maxDets=  1 ] = 0.819\n",
            " Average Recall     (AR) @[ IoU=0.50:0.95 | area=   all | maxDets= 10 ] = 0.819\n",
            " Average Recall     (AR) @[ IoU=0.50:0.95 | area=   all | maxDets=100 ] = 0.819\n",
            " Average Recall     (AR) @[ IoU=0.50:0.95 | area= small | maxDets=100 ] = -1.000\n",
            " Average Recall     (AR) @[ IoU=0.50:0.95 | area=medium | maxDets=100 ] = 0.819\n",
            " Average Recall     (AR) @[ IoU=0.50:0.95 | area= large | maxDets=100 ] = -1.000\n",
            "Epoch: [4]  [ 0/52]  eta: 0:01:23  lr: 0.000500  loss: 0.0638 (0.0638)  loss_classifier: 0.0166 (0.0166)  loss_box_reg: 0.0469 (0.0469)  loss_objectness: 0.0000 (0.0000)  loss_rpn_box_reg: 0.0003 (0.0003)  time: 1.6064  data: 0.1605  max mem: 2601\n",
            "Epoch: [4]  [10/52]  eta: 0:01:01  lr: 0.000500  loss: 0.0480 (0.0478)  loss_classifier: 0.0155 (0.0148)  loss_box_reg: 0.0315 (0.0326)  loss_objectness: 0.0000 (0.0002)  loss_rpn_box_reg: 0.0001 (0.0001)  time: 1.4604  data: 0.0228  max mem: 2601\n",
            "Epoch: [4]  [20/52]  eta: 0:00:46  lr: 0.000500  loss: 0.0459 (0.0472)  loss_classifier: 0.0145 (0.0146)  loss_box_reg: 0.0311 (0.0322)  loss_objectness: 0.0000 (0.0002)  loss_rpn_box_reg: 0.0001 (0.0002)  time: 1.4451  data: 0.0089  max mem: 2601\n",
            "Epoch: [4]  [30/52]  eta: 0:00:31  lr: 0.000500  loss: 0.0459 (0.0480)  loss_classifier: 0.0145 (0.0155)  loss_box_reg: 0.0290 (0.0322)  loss_objectness: 0.0000 (0.0002)  loss_rpn_box_reg: 0.0001 (0.0002)  time: 1.4430  data: 0.0085  max mem: 2601\n",
            "Epoch: [4]  [40/52]  eta: 0:00:17  lr: 0.000500  loss: 0.0476 (0.0483)  loss_classifier: 0.0159 (0.0157)  loss_box_reg: 0.0313 (0.0323)  loss_objectness: 0.0000 (0.0002)  loss_rpn_box_reg: 0.0001 (0.0001)  time: 1.4424  data: 0.0084  max mem: 2601\n",
            "Epoch: [4]  [50/52]  eta: 0:00:02  lr: 0.000500  loss: 0.0467 (0.0480)  loss_classifier: 0.0156 (0.0158)  loss_box_reg: 0.0317 (0.0319)  loss_objectness: 0.0000 (0.0001)  loss_rpn_box_reg: 0.0001 (0.0002)  time: 1.4412  data: 0.0081  max mem: 2601\n",
            "Epoch: [4]  [51/52]  eta: 0:00:01  lr: 0.000500  loss: 0.0475 (0.0480)  loss_classifier: 0.0163 (0.0159)  loss_box_reg: 0.0317 (0.0318)  loss_objectness: 0.0000 (0.0001)  loss_rpn_box_reg: 0.0001 (0.0002)  time: 1.4076  data: 0.0080  max mem: 2601\n",
            "Epoch: [4] Total time: 0:01:14 (1.4354 s / it)\n",
            "creating index...\n",
            "index created!\n",
            "Test:  [ 0/26]  eta: 0:00:12  model_time: 0.3321 (0.3321)  evaluator_time: 0.0025 (0.0025)  time: 0.4852  data: 0.1473  max mem: 2601\n"
          ]
        },
        {
          "output_type": "stream",
          "name": "stderr",
          "text": [
            "\r 50%|█████     | 5/10 [07:01<07:00, 84.15s/it]"
          ]
        },
        {
          "output_type": "stream",
          "name": "stdout",
          "text": [
            "Test:  [25/26]  eta: 0:00:00  model_time: 0.3439 (0.3430)  evaluator_time: 0.0010 (0.0011)  time: 0.3498  data: 0.0040  max mem: 2601\n",
            "Test: Total time: 0:00:09 (0.3585 s / it)\n",
            "Averaged stats: model_time: 0.3439 (0.3430)  evaluator_time: 0.0010 (0.0011)\n",
            "Accumulating evaluation results...\n",
            "DONE (t=0.01s).\n",
            "IoU metric: bbox\n",
            " Average Precision  (AP) @[ IoU=0.50:0.95 | area=   all | maxDets=100 ] = 0.793\n",
            " Average Precision  (AP) @[ IoU=0.50      | area=   all | maxDets=100 ] = 1.000\n",
            " Average Precision  (AP) @[ IoU=0.75      | area=   all | maxDets=100 ] = 1.000\n",
            " Average Precision  (AP) @[ IoU=0.50:0.95 | area= small | maxDets=100 ] = -1.000\n",
            " Average Precision  (AP) @[ IoU=0.50:0.95 | area=medium | maxDets=100 ] = 0.793\n",
            " Average Precision  (AP) @[ IoU=0.50:0.95 | area= large | maxDets=100 ] = -1.000\n",
            " Average Recall     (AR) @[ IoU=0.50:0.95 | area=   all | maxDets=  1 ] = 0.831\n",
            " Average Recall     (AR) @[ IoU=0.50:0.95 | area=   all | maxDets= 10 ] = 0.831\n",
            " Average Recall     (AR) @[ IoU=0.50:0.95 | area=   all | maxDets=100 ] = 0.831\n",
            " Average Recall     (AR) @[ IoU=0.50:0.95 | area= small | maxDets=100 ] = -1.000\n",
            " Average Recall     (AR) @[ IoU=0.50:0.95 | area=medium | maxDets=100 ] = 0.831\n",
            " Average Recall     (AR) @[ IoU=0.50:0.95 | area= large | maxDets=100 ] = -1.000\n",
            "Epoch: [5]  [ 0/52]  eta: 0:01:22  lr: 0.000500  loss: 0.0379 (0.0379)  loss_classifier: 0.0177 (0.0177)  loss_box_reg: 0.0200 (0.0200)  loss_objectness: 0.0000 (0.0000)  loss_rpn_box_reg: 0.0002 (0.0002)  time: 1.5936  data: 0.1585  max mem: 2601\n",
            "Epoch: [5]  [10/52]  eta: 0:01:01  lr: 0.000500  loss: 0.0402 (0.0458)  loss_classifier: 0.0161 (0.0163)  loss_box_reg: 0.0260 (0.0293)  loss_objectness: 0.0000 (0.0000)  loss_rpn_box_reg: 0.0001 (0.0002)  time: 1.4608  data: 0.0218  max mem: 2601\n",
            "Epoch: [5]  [20/52]  eta: 0:00:46  lr: 0.000500  loss: 0.0430 (0.0449)  loss_classifier: 0.0148 (0.0152)  loss_box_reg: 0.0283 (0.0295)  loss_objectness: 0.0000 (0.0000)  loss_rpn_box_reg: 0.0001 (0.0001)  time: 1.4451  data: 0.0083  max mem: 2601\n",
            "Epoch: [5]  [30/52]  eta: 0:00:31  lr: 0.000500  loss: 0.0388 (0.0435)  loss_classifier: 0.0148 (0.0153)  loss_box_reg: 0.0256 (0.0281)  loss_objectness: 0.0000 (0.0000)  loss_rpn_box_reg: 0.0001 (0.0001)  time: 1.4435  data: 0.0082  max mem: 2601\n",
            "Epoch: [5]  [40/52]  eta: 0:00:17  lr: 0.000500  loss: 0.0435 (0.0445)  loss_classifier: 0.0155 (0.0155)  loss_box_reg: 0.0277 (0.0287)  loss_objectness: 0.0000 (0.0001)  loss_rpn_box_reg: 0.0001 (0.0002)  time: 1.4441  data: 0.0086  max mem: 2601\n",
            "Epoch: [5]  [50/52]  eta: 0:00:02  lr: 0.000500  loss: 0.0476 (0.0445)  loss_classifier: 0.0154 (0.0155)  loss_box_reg: 0.0292 (0.0288)  loss_objectness: 0.0000 (0.0001)  loss_rpn_box_reg: 0.0001 (0.0002)  time: 1.4443  data: 0.0086  max mem: 2601\n",
            "Epoch: [5]  [51/52]  eta: 0:00:01  lr: 0.000500  loss: 0.0476 (0.0445)  loss_classifier: 0.0154 (0.0155)  loss_box_reg: 0.0292 (0.0288)  loss_objectness: 0.0000 (0.0001)  loss_rpn_box_reg: 0.0001 (0.0002)  time: 1.4099  data: 0.0084  max mem: 2601\n",
            "Epoch: [5] Total time: 0:01:14 (1.4366 s / it)\n",
            "creating index...\n",
            "index created!\n",
            "Test:  [ 0/26]  eta: 0:00:13  model_time: 0.3444 (0.3444)  evaluator_time: 0.0022 (0.0022)  time: 0.5013  data: 0.1533  max mem: 2601\n"
          ]
        },
        {
          "output_type": "stream",
          "name": "stderr",
          "text": [
            "\r 60%|██████    | 6/10 [08:25<05:36, 84.12s/it]"
          ]
        },
        {
          "output_type": "stream",
          "name": "stdout",
          "text": [
            "Test:  [25/26]  eta: 0:00:00  model_time: 0.3410 (0.3424)  evaluator_time: 0.0010 (0.0011)  time: 0.3484  data: 0.0038  max mem: 2601\n",
            "Test: Total time: 0:00:09 (0.3586 s / it)\n",
            "Averaged stats: model_time: 0.3410 (0.3424)  evaluator_time: 0.0010 (0.0011)\n",
            "Accumulating evaluation results...\n",
            "DONE (t=0.01s).\n",
            "IoU metric: bbox\n",
            " Average Precision  (AP) @[ IoU=0.50:0.95 | area=   all | maxDets=100 ] = 0.812\n",
            " Average Precision  (AP) @[ IoU=0.50      | area=   all | maxDets=100 ] = 1.000\n",
            " Average Precision  (AP) @[ IoU=0.75      | area=   all | maxDets=100 ] = 0.941\n",
            " Average Precision  (AP) @[ IoU=0.50:0.95 | area= small | maxDets=100 ] = -1.000\n",
            " Average Precision  (AP) @[ IoU=0.50:0.95 | area=medium | maxDets=100 ] = 0.812\n",
            " Average Precision  (AP) @[ IoU=0.50:0.95 | area= large | maxDets=100 ] = -1.000\n",
            " Average Recall     (AR) @[ IoU=0.50:0.95 | area=   all | maxDets=  1 ] = 0.842\n",
            " Average Recall     (AR) @[ IoU=0.50:0.95 | area=   all | maxDets= 10 ] = 0.842\n",
            " Average Recall     (AR) @[ IoU=0.50:0.95 | area=   all | maxDets=100 ] = 0.842\n",
            " Average Recall     (AR) @[ IoU=0.50:0.95 | area= small | maxDets=100 ] = -1.000\n",
            " Average Recall     (AR) @[ IoU=0.50:0.95 | area=medium | maxDets=100 ] = 0.842\n",
            " Average Recall     (AR) @[ IoU=0.50:0.95 | area= large | maxDets=100 ] = -1.000\n",
            "Epoch: [6]  [ 0/52]  eta: 0:01:23  lr: 0.000050  loss: 0.0269 (0.0269)  loss_classifier: 0.0142 (0.0142)  loss_box_reg: 0.0126 (0.0126)  loss_objectness: 0.0000 (0.0000)  loss_rpn_box_reg: 0.0001 (0.0001)  time: 1.6085  data: 0.1706  max mem: 2601\n",
            "Epoch: [6]  [10/52]  eta: 0:01:01  lr: 0.000050  loss: 0.0393 (0.0411)  loss_classifier: 0.0148 (0.0144)  loss_box_reg: 0.0270 (0.0266)  loss_objectness: 0.0000 (0.0000)  loss_rpn_box_reg: 0.0001 (0.0001)  time: 1.4581  data: 0.0242  max mem: 2601\n",
            "Epoch: [6]  [20/52]  eta: 0:00:46  lr: 0.000050  loss: 0.0409 (0.0422)  loss_classifier: 0.0153 (0.0158)  loss_box_reg: 0.0270 (0.0262)  loss_objectness: 0.0000 (0.0000)  loss_rpn_box_reg: 0.0001 (0.0001)  time: 1.4420  data: 0.0091  max mem: 2601\n",
            "Epoch: [6]  [30/52]  eta: 0:00:31  lr: 0.000050  loss: 0.0407 (0.0418)  loss_classifier: 0.0162 (0.0155)  loss_box_reg: 0.0259 (0.0259)  loss_objectness: 0.0000 (0.0002)  loss_rpn_box_reg: 0.0001 (0.0001)  time: 1.4415  data: 0.0084  max mem: 2601\n",
            "Epoch: [6]  [40/52]  eta: 0:00:17  lr: 0.000050  loss: 0.0407 (0.0421)  loss_classifier: 0.0154 (0.0154)  loss_box_reg: 0.0259 (0.0264)  loss_objectness: 0.0000 (0.0002)  loss_rpn_box_reg: 0.0001 (0.0001)  time: 1.4421  data: 0.0083  max mem: 2601\n",
            "Epoch: [6]  [50/52]  eta: 0:00:02  lr: 0.000050  loss: 0.0363 (0.0418)  loss_classifier: 0.0144 (0.0154)  loss_box_reg: 0.0247 (0.0262)  loss_objectness: 0.0000 (0.0002)  loss_rpn_box_reg: 0.0001 (0.0001)  time: 1.4431  data: 0.0082  max mem: 2601\n",
            "Epoch: [6]  [51/52]  eta: 0:00:01  lr: 0.000050  loss: 0.0363 (0.0418)  loss_classifier: 0.0144 (0.0155)  loss_box_reg: 0.0234 (0.0260)  loss_objectness: 0.0000 (0.0002)  loss_rpn_box_reg: 0.0001 (0.0001)  time: 1.4097  data: 0.0079  max mem: 2601\n",
            "Epoch: [6] Total time: 0:01:14 (1.4353 s / it)\n",
            "creating index...\n",
            "index created!\n",
            "Test:  [ 0/26]  eta: 0:00:12  model_time: 0.3310 (0.3310)  evaluator_time: 0.0018 (0.0018)  time: 0.4752  data: 0.1409  max mem: 2601\n"
          ]
        },
        {
          "output_type": "stream",
          "name": "stderr",
          "text": [
            "\r 70%|███████   | 7/10 [09:49<04:12, 84.08s/it]"
          ]
        },
        {
          "output_type": "stream",
          "name": "stdout",
          "text": [
            "Test:  [25/26]  eta: 0:00:00  model_time: 0.3429 (0.3424)  evaluator_time: 0.0011 (0.0012)  time: 0.3494  data: 0.0039  max mem: 2601\n",
            "Test: Total time: 0:00:09 (0.3588 s / it)\n",
            "Averaged stats: model_time: 0.3429 (0.3424)  evaluator_time: 0.0011 (0.0012)\n",
            "Accumulating evaluation results...\n",
            "DONE (t=0.01s).\n",
            "IoU metric: bbox\n",
            " Average Precision  (AP) @[ IoU=0.50:0.95 | area=   all | maxDets=100 ] = 0.808\n",
            " Average Precision  (AP) @[ IoU=0.50      | area=   all | maxDets=100 ] = 1.000\n",
            " Average Precision  (AP) @[ IoU=0.75      | area=   all | maxDets=100 ] = 0.941\n",
            " Average Precision  (AP) @[ IoU=0.50:0.95 | area= small | maxDets=100 ] = -1.000\n",
            " Average Precision  (AP) @[ IoU=0.50:0.95 | area=medium | maxDets=100 ] = 0.808\n",
            " Average Precision  (AP) @[ IoU=0.50:0.95 | area= large | maxDets=100 ] = -1.000\n",
            " Average Recall     (AR) @[ IoU=0.50:0.95 | area=   all | maxDets=  1 ] = 0.838\n",
            " Average Recall     (AR) @[ IoU=0.50:0.95 | area=   all | maxDets= 10 ] = 0.838\n",
            " Average Recall     (AR) @[ IoU=0.50:0.95 | area=   all | maxDets=100 ] = 0.838\n",
            " Average Recall     (AR) @[ IoU=0.50:0.95 | area= small | maxDets=100 ] = -1.000\n",
            " Average Recall     (AR) @[ IoU=0.50:0.95 | area=medium | maxDets=100 ] = 0.838\n",
            " Average Recall     (AR) @[ IoU=0.50:0.95 | area= large | maxDets=100 ] = -1.000\n",
            "Epoch: [7]  [ 0/52]  eta: 0:01:23  lr: 0.000050  loss: 0.0470 (0.0470)  loss_classifier: 0.0227 (0.0227)  loss_box_reg: 0.0241 (0.0241)  loss_objectness: 0.0000 (0.0000)  loss_rpn_box_reg: 0.0002 (0.0002)  time: 1.5999  data: 0.1823  max mem: 2601\n",
            "Epoch: [7]  [10/52]  eta: 0:01:01  lr: 0.000050  loss: 0.0432 (0.0425)  loss_classifier: 0.0134 (0.0151)  loss_box_reg: 0.0249 (0.0272)  loss_objectness: 0.0000 (0.0000)  loss_rpn_box_reg: 0.0001 (0.0002)  time: 1.4566  data: 0.0236  max mem: 2601\n",
            "Epoch: [7]  [20/52]  eta: 0:00:46  lr: 0.000050  loss: 0.0407 (0.0412)  loss_classifier: 0.0146 (0.0152)  loss_box_reg: 0.0242 (0.0258)  loss_objectness: 0.0000 (0.0001)  loss_rpn_box_reg: 0.0001 (0.0001)  time: 1.4433  data: 0.0084  max mem: 2601\n",
            "Epoch: [7]  [30/52]  eta: 0:00:31  lr: 0.000050  loss: 0.0409 (0.0417)  loss_classifier: 0.0147 (0.0147)  loss_box_reg: 0.0250 (0.0267)  loss_objectness: 0.0000 (0.0001)  loss_rpn_box_reg: 0.0001 (0.0002)  time: 1.4467  data: 0.0086  max mem: 2601\n",
            "Epoch: [7]  [40/52]  eta: 0:00:17  lr: 0.000050  loss: 0.0409 (0.0409)  loss_classifier: 0.0136 (0.0146)  loss_box_reg: 0.0270 (0.0261)  loss_objectness: 0.0000 (0.0001)  loss_rpn_box_reg: 0.0001 (0.0001)  time: 1.4517  data: 0.0082  max mem: 2601\n",
            "Epoch: [7]  [50/52]  eta: 0:00:02  lr: 0.000050  loss: 0.0373 (0.0403)  loss_classifier: 0.0146 (0.0148)  loss_box_reg: 0.0242 (0.0254)  loss_objectness: 0.0000 (0.0001)  loss_rpn_box_reg: 0.0001 (0.0001)  time: 1.4551  data: 0.0083  max mem: 2601\n",
            "Epoch: [7]  [51/52]  eta: 0:00:01  lr: 0.000050  loss: 0.0385 (0.0406)  loss_classifier: 0.0141 (0.0148)  loss_box_reg: 0.0249 (0.0257)  loss_objectness: 0.0000 (0.0001)  loss_rpn_box_reg: 0.0001 (0.0001)  time: 1.4217  data: 0.0083  max mem: 2601\n",
            "Epoch: [7] Total time: 0:01:14 (1.4415 s / it)\n",
            "creating index...\n",
            "index created!\n",
            "Test:  [ 0/26]  eta: 0:00:12  model_time: 0.3343 (0.3343)  evaluator_time: 0.0019 (0.0019)  time: 0.4868  data: 0.1493  max mem: 2601\n"
          ]
        },
        {
          "output_type": "stream",
          "name": "stderr",
          "text": [
            "\r 80%|████████  | 8/10 [11:13<02:48, 84.18s/it]"
          ]
        },
        {
          "output_type": "stream",
          "name": "stdout",
          "text": [
            "Test:  [25/26]  eta: 0:00:00  model_time: 0.3464 (0.3464)  evaluator_time: 0.0010 (0.0012)  time: 0.3535  data: 0.0040  max mem: 2601\n",
            "Test: Total time: 0:00:09 (0.3623 s / it)\n",
            "Averaged stats: model_time: 0.3464 (0.3464)  evaluator_time: 0.0010 (0.0012)\n",
            "Accumulating evaluation results...\n",
            "DONE (t=0.01s).\n",
            "IoU metric: bbox\n",
            " Average Precision  (AP) @[ IoU=0.50:0.95 | area=   all | maxDets=100 ] = 0.812\n",
            " Average Precision  (AP) @[ IoU=0.50      | area=   all | maxDets=100 ] = 1.000\n",
            " Average Precision  (AP) @[ IoU=0.75      | area=   all | maxDets=100 ] = 0.946\n",
            " Average Precision  (AP) @[ IoU=0.50:0.95 | area= small | maxDets=100 ] = -1.000\n",
            " Average Precision  (AP) @[ IoU=0.50:0.95 | area=medium | maxDets=100 ] = 0.812\n",
            " Average Precision  (AP) @[ IoU=0.50:0.95 | area= large | maxDets=100 ] = -1.000\n",
            " Average Recall     (AR) @[ IoU=0.50:0.95 | area=   all | maxDets=  1 ] = 0.842\n",
            " Average Recall     (AR) @[ IoU=0.50:0.95 | area=   all | maxDets= 10 ] = 0.842\n",
            " Average Recall     (AR) @[ IoU=0.50:0.95 | area=   all | maxDets=100 ] = 0.842\n",
            " Average Recall     (AR) @[ IoU=0.50:0.95 | area= small | maxDets=100 ] = -1.000\n",
            " Average Recall     (AR) @[ IoU=0.50:0.95 | area=medium | maxDets=100 ] = 0.842\n",
            " Average Recall     (AR) @[ IoU=0.50:0.95 | area= large | maxDets=100 ] = -1.000\n",
            "Epoch: [8]  [ 0/52]  eta: 0:01:24  lr: 0.000050  loss: 0.0400 (0.0400)  loss_classifier: 0.0172 (0.0172)  loss_box_reg: 0.0223 (0.0223)  loss_objectness: 0.0003 (0.0003)  loss_rpn_box_reg: 0.0001 (0.0001)  time: 1.6225  data: 0.1629  max mem: 2601\n",
            "Epoch: [8]  [10/52]  eta: 0:01:01  lr: 0.000050  loss: 0.0381 (0.0398)  loss_classifier: 0.0142 (0.0150)  loss_box_reg: 0.0240 (0.0245)  loss_objectness: 0.0000 (0.0001)  loss_rpn_box_reg: 0.0001 (0.0002)  time: 1.4746  data: 0.0228  max mem: 2601\n",
            "Epoch: [8]  [20/52]  eta: 0:00:46  lr: 0.000050  loss: 0.0404 (0.0411)  loss_classifier: 0.0153 (0.0156)  loss_box_reg: 0.0264 (0.0253)  loss_objectness: 0.0000 (0.0000)  loss_rpn_box_reg: 0.0001 (0.0002)  time: 1.4605  data: 0.0090  max mem: 2601\n",
            "Epoch: [8]  [30/52]  eta: 0:00:32  lr: 0.000050  loss: 0.0420 (0.0422)  loss_classifier: 0.0160 (0.0159)  loss_box_reg: 0.0267 (0.0261)  loss_objectness: 0.0000 (0.0000)  loss_rpn_box_reg: 0.0001 (0.0002)  time: 1.4627  data: 0.0087  max mem: 2601\n",
            "Epoch: [8]  [40/52]  eta: 0:00:17  lr: 0.000050  loss: 0.0391 (0.0417)  loss_classifier: 0.0140 (0.0155)  loss_box_reg: 0.0244 (0.0260)  loss_objectness: 0.0000 (0.0000)  loss_rpn_box_reg: 0.0001 (0.0001)  time: 1.4606  data: 0.0082  max mem: 2601\n",
            "Epoch: [8]  [50/52]  eta: 0:00:02  lr: 0.000050  loss: 0.0363 (0.0406)  loss_classifier: 0.0122 (0.0150)  loss_box_reg: 0.0227 (0.0254)  loss_objectness: 0.0000 (0.0000)  loss_rpn_box_reg: 0.0001 (0.0001)  time: 1.4561  data: 0.0081  max mem: 2601\n",
            "Epoch: [8]  [51/52]  eta: 0:00:01  lr: 0.000050  loss: 0.0363 (0.0404)  loss_classifier: 0.0122 (0.0149)  loss_box_reg: 0.0222 (0.0253)  loss_objectness: 0.0000 (0.0000)  loss_rpn_box_reg: 0.0001 (0.0001)  time: 1.4225  data: 0.0079  max mem: 2601\n",
            "Epoch: [8] Total time: 0:01:15 (1.4521 s / it)\n",
            "creating index...\n",
            "index created!\n",
            "Test:  [ 0/26]  eta: 0:00:12  model_time: 0.3357 (0.3357)  evaluator_time: 0.0028 (0.0028)  time: 0.4896  data: 0.1491  max mem: 2601\n"
          ]
        },
        {
          "output_type": "stream",
          "name": "stderr",
          "text": [
            "\r 90%|█████████ | 9/10 [12:38<01:24, 84.42s/it]"
          ]
        },
        {
          "output_type": "stream",
          "name": "stdout",
          "text": [
            "Test:  [25/26]  eta: 0:00:00  model_time: 0.3460 (0.3450)  evaluator_time: 0.0010 (0.0012)  time: 0.3521  data: 0.0040  max mem: 2601\n",
            "Test: Total time: 0:00:09 (0.3613 s / it)\n",
            "Averaged stats: model_time: 0.3460 (0.3450)  evaluator_time: 0.0010 (0.0012)\n",
            "Accumulating evaluation results...\n",
            "DONE (t=0.01s).\n",
            "IoU metric: bbox\n",
            " Average Precision  (AP) @[ IoU=0.50:0.95 | area=   all | maxDets=100 ] = 0.809\n",
            " Average Precision  (AP) @[ IoU=0.50      | area=   all | maxDets=100 ] = 1.000\n",
            " Average Precision  (AP) @[ IoU=0.75      | area=   all | maxDets=100 ] = 0.947\n",
            " Average Precision  (AP) @[ IoU=0.50:0.95 | area= small | maxDets=100 ] = -1.000\n",
            " Average Precision  (AP) @[ IoU=0.50:0.95 | area=medium | maxDets=100 ] = 0.809\n",
            " Average Precision  (AP) @[ IoU=0.50:0.95 | area= large | maxDets=100 ] = -1.000\n",
            " Average Recall     (AR) @[ IoU=0.50:0.95 | area=   all | maxDets=  1 ] = 0.838\n",
            " Average Recall     (AR) @[ IoU=0.50:0.95 | area=   all | maxDets= 10 ] = 0.838\n",
            " Average Recall     (AR) @[ IoU=0.50:0.95 | area=   all | maxDets=100 ] = 0.838\n",
            " Average Recall     (AR) @[ IoU=0.50:0.95 | area= small | maxDets=100 ] = -1.000\n",
            " Average Recall     (AR) @[ IoU=0.50:0.95 | area=medium | maxDets=100 ] = 0.838\n",
            " Average Recall     (AR) @[ IoU=0.50:0.95 | area= large | maxDets=100 ] = -1.000\n",
            "Epoch: [9]  [ 0/52]  eta: 0:01:24  lr: 0.000005  loss: 0.0443 (0.0443)  loss_classifier: 0.0111 (0.0111)  loss_box_reg: 0.0332 (0.0332)  loss_objectness: 0.0000 (0.0000)  loss_rpn_box_reg: 0.0001 (0.0001)  time: 1.6166  data: 0.1604  max mem: 2601\n",
            "Epoch: [9]  [10/52]  eta: 0:01:01  lr: 0.000005  loss: 0.0372 (0.0360)  loss_classifier: 0.0119 (0.0126)  loss_box_reg: 0.0233 (0.0228)  loss_objectness: 0.0000 (0.0004)  loss_rpn_box_reg: 0.0001 (0.0001)  time: 1.4651  data: 0.0230  max mem: 2601\n",
            "Epoch: [9]  [20/52]  eta: 0:00:46  lr: 0.000005  loss: 0.0424 (0.0417)  loss_classifier: 0.0146 (0.0149)  loss_box_reg: 0.0235 (0.0262)  loss_objectness: 0.0000 (0.0004)  loss_rpn_box_reg: 0.0001 (0.0002)  time: 1.4526  data: 0.0090  max mem: 2601\n",
            "Epoch: [9]  [30/52]  eta: 0:00:32  lr: 0.000005  loss: 0.0448 (0.0411)  loss_classifier: 0.0155 (0.0151)  loss_box_reg: 0.0283 (0.0256)  loss_objectness: 0.0000 (0.0003)  loss_rpn_box_reg: 0.0001 (0.0002)  time: 1.4586  data: 0.0085  max mem: 2601\n",
            "Epoch: [9]  [40/52]  eta: 0:00:17  lr: 0.000005  loss: 0.0353 (0.0409)  loss_classifier: 0.0140 (0.0148)  loss_box_reg: 0.0228 (0.0257)  loss_objectness: 0.0000 (0.0003)  loss_rpn_box_reg: 0.0001 (0.0002)  time: 1.4605  data: 0.0081  max mem: 2601\n",
            "Epoch: [9]  [50/52]  eta: 0:00:02  lr: 0.000005  loss: 0.0352 (0.0401)  loss_classifier: 0.0142 (0.0148)  loss_box_reg: 0.0215 (0.0249)  loss_objectness: 0.0000 (0.0002)  loss_rpn_box_reg: 0.0001 (0.0001)  time: 1.4594  data: 0.0081  max mem: 2601\n",
            "Epoch: [9]  [51/52]  eta: 0:00:01  lr: 0.000005  loss: 0.0355 (0.0404)  loss_classifier: 0.0145 (0.0150)  loss_box_reg: 0.0215 (0.0250)  loss_objectness: 0.0000 (0.0002)  loss_rpn_box_reg: 0.0001 (0.0001)  time: 1.4258  data: 0.0079  max mem: 2601\n",
            "Epoch: [9] Total time: 0:01:15 (1.4497 s / it)\n",
            "creating index...\n",
            "index created!\n",
            "Test:  [ 0/26]  eta: 0:00:12  model_time: 0.3455 (0.3455)  evaluator_time: 0.0019 (0.0019)  time: 0.4943  data: 0.1455  max mem: 2601\n"
          ]
        },
        {
          "output_type": "stream",
          "name": "stderr",
          "text": [
            "100%|██████████| 10/10 [14:03<00:00, 84.34s/it]"
          ]
        },
        {
          "output_type": "stream",
          "name": "stdout",
          "text": [
            "Test:  [25/26]  eta: 0:00:00  model_time: 0.3479 (0.3467)  evaluator_time: 0.0011 (0.0012)  time: 0.3534  data: 0.0039  max mem: 2601\n",
            "Test: Total time: 0:00:09 (0.3629 s / it)\n",
            "Averaged stats: model_time: 0.3479 (0.3467)  evaluator_time: 0.0011 (0.0012)\n",
            "Accumulating evaluation results...\n",
            "DONE (t=0.01s).\n",
            "IoU metric: bbox\n",
            " Average Precision  (AP) @[ IoU=0.50:0.95 | area=   all | maxDets=100 ] = 0.809\n",
            " Average Precision  (AP) @[ IoU=0.50      | area=   all | maxDets=100 ] = 1.000\n",
            " Average Precision  (AP) @[ IoU=0.75      | area=   all | maxDets=100 ] = 0.947\n",
            " Average Precision  (AP) @[ IoU=0.50:0.95 | area= small | maxDets=100 ] = -1.000\n",
            " Average Precision  (AP) @[ IoU=0.50:0.95 | area=medium | maxDets=100 ] = 0.809\n",
            " Average Precision  (AP) @[ IoU=0.50:0.95 | area= large | maxDets=100 ] = -1.000\n",
            " Average Recall     (AR) @[ IoU=0.50:0.95 | area=   all | maxDets=  1 ] = 0.838\n",
            " Average Recall     (AR) @[ IoU=0.50:0.95 | area=   all | maxDets= 10 ] = 0.838\n",
            " Average Recall     (AR) @[ IoU=0.50:0.95 | area=   all | maxDets=100 ] = 0.838\n",
            " Average Recall     (AR) @[ IoU=0.50:0.95 | area= small | maxDets=100 ] = -1.000\n",
            " Average Recall     (AR) @[ IoU=0.50:0.95 | area=medium | maxDets=100 ] = 0.838\n",
            " Average Recall     (AR) @[ IoU=0.50:0.95 | area= large | maxDets=100 ] = -1.000\n",
            "Training  and Evaluation Completed!!\n"
          ]
        },
        {
          "output_type": "stream",
          "name": "stderr",
          "text": [
            "\n"
          ]
        }
      ],
      "source": [
        "train(model, complete_dataset,num_epochs = 10)"
      ]
    },
    {
      "cell_type": "code",
      "execution_count": 14,
      "metadata": {
        "id": "hJrgw-kEpXGg"
      },
      "outputs": [],
      "source": [
        "## save model\n",
        "PATH = \"/content/drive/MyDrive/University of Washington - Seattle/Internship/BrainCorp/find_phone_task_4/trained_model/FasterRCNN_10EPOCHS.pth\"\n",
        "torch.save(model.state_dict(), PATH)"
      ]
    },
    {
      "cell_type": "code",
      "source": [
        "dataset, dataset_test = train_test_split(complete_dataset, test_size=0.2, shuffle=True, random_state=43)\n",
        "img, _ = dataset_test[0]\n",
        "device = torch.device('cuda') if torch.cuda.is_available() else torch.device('cpu')\n",
        "# put the model in evaluation mode\n",
        "model.eval()\n",
        "with torch.no_grad():\n",
        "    prediction = model([img.to(device)])"
      ],
      "metadata": {
        "id": "E3taUjV2914_"
      },
      "execution_count": 17,
      "outputs": []
    },
    {
      "cell_type": "code",
      "source": [
        "prediction"
      ],
      "metadata": {
        "colab": {
          "base_uri": "https://localhost:8080/"
        },
        "id": "AkJLG7nk-XcY",
        "outputId": "132883e7-225a-48f4-8ef6-749af45b5e24"
      },
      "execution_count": 19,
      "outputs": [
        {
          "output_type": "execute_result",
          "data": {
            "text/plain": [
              "[{'boxes': tensor([[407.9182, 125.2831, 456.6463, 158.6404]], device='cuda:0'),\n",
              "  'labels': tensor([1], device='cuda:0'),\n",
              "  'scores': tensor([0.9943], device='cuda:0')}]"
            ]
          },
          "metadata": {},
          "execution_count": 19
        }
      ]
    },
    {
      "cell_type": "code",
      "source": [
        "predictionBox = prediction[0]['boxes'].tolist()[0]\n",
        "predictionBox"
      ],
      "metadata": {
        "colab": {
          "base_uri": "https://localhost:8080/"
        },
        "id": "5o6buP_k_gb4",
        "outputId": "3943c516-b480-4d39-c940-3da79e857673"
      },
      "execution_count": 65,
      "outputs": [
        {
          "output_type": "execute_result",
          "data": {
            "text/plain": [
              "[407.91815185546875, 125.28311920166016, 456.6462707519531, 158.64035034179688]"
            ]
          },
          "metadata": {},
          "execution_count": 65
        }
      ]
    },
    {
      "cell_type": "code",
      "source": [
        "img.shape"
      ],
      "metadata": {
        "colab": {
          "base_uri": "https://localhost:8080/"
        },
        "id": "8vQ-JBNyNeEp",
        "outputId": "6bf61041-61b9-4117-a25c-628914940067"
      },
      "execution_count": 101,
      "outputs": [
        {
          "output_type": "execute_result",
          "data": {
            "text/plain": [
              "torch.Size([3, 326, 490])"
            ]
          },
          "metadata": {},
          "execution_count": 101
        }
      ]
    },
    {
      "cell_type": "code",
      "source": [
        "def getCenter(boxes):\n",
        "  centerX = ( round(boxes[0]) + round(boxes[2]) ) /(2*490)\n",
        "  centerY = ( round(boxes[1]) + round(boxes[3]) ) /(2*326)\n",
        "  return round(centerX,4), round(centerY,4)\n",
        "getCenter(predictionBox)"
      ],
      "metadata": {
        "colab": {
          "base_uri": "https://localhost:8080/"
        },
        "id": "BKfJJgvW-nH4",
        "outputId": "95a3d0f3-ca85-4aca-f918-b1e949482785"
      },
      "execution_count": 85,
      "outputs": [
        {
          "output_type": "execute_result",
          "data": {
            "text/plain": [
              "(0.8827, 0.4356)"
            ]
          },
          "metadata": {},
          "execution_count": 85
        }
      ]
    },
    {
      "cell_type": "code",
      "source": [
        "complete_dataset[0]"
      ],
      "metadata": {
        "colab": {
          "base_uri": "https://localhost:8080/"
        },
        "id": "ohsdySnF-vS1",
        "outputId": "5248a6ae-534d-494a-bb35-1366eecc87b6"
      },
      "execution_count": 35,
      "outputs": [
        {
          "output_type": "execute_result",
          "data": {
            "text/plain": [
              "(tensor([[[0.4784, 0.4824, 0.5059,  ..., 0.6824, 0.6863, 0.6863],\n",
              "          [0.4745, 0.4824, 0.5020,  ..., 0.6824, 0.6745, 0.6549],\n",
              "          [0.4863, 0.4980, 0.5137,  ..., 0.6745, 0.6941, 0.6902],\n",
              "          ...,\n",
              "          [0.4745, 0.4863, 0.5059,  ..., 0.6824, 0.6627, 0.6549],\n",
              "          [0.4667, 0.4784, 0.5059,  ..., 0.6824, 0.6667, 0.6627],\n",
              "          [0.4588, 0.4588, 0.4824,  ..., 0.6706, 0.6863, 0.6824]],\n",
              " \n",
              "         [[0.4627, 0.4667, 0.4902,  ..., 0.6667, 0.6745, 0.6745],\n",
              "          [0.4588, 0.4667, 0.4863,  ..., 0.6667, 0.6627, 0.6431],\n",
              "          [0.4706, 0.4824, 0.4980,  ..., 0.6588, 0.6824, 0.6784],\n",
              "          ...,\n",
              "          [0.4549, 0.4667, 0.4863,  ..., 0.6667, 0.6471, 0.6392],\n",
              "          [0.4471, 0.4588, 0.4863,  ..., 0.6667, 0.6510, 0.6471],\n",
              "          [0.4392, 0.4392, 0.4627,  ..., 0.6549, 0.6706, 0.6667]],\n",
              " \n",
              "         [[0.4510, 0.4549, 0.4784,  ..., 0.6549, 0.6549, 0.6549],\n",
              "          [0.4471, 0.4549, 0.4745,  ..., 0.6549, 0.6431, 0.6235],\n",
              "          [0.4588, 0.4706, 0.4863,  ..., 0.6471, 0.6627, 0.6588],\n",
              "          ...,\n",
              "          [0.4431, 0.4549, 0.4745,  ..., 0.6627, 0.6431, 0.6353],\n",
              "          [0.4353, 0.4471, 0.4745,  ..., 0.6627, 0.6471, 0.6431],\n",
              "          [0.4275, 0.4275, 0.4510,  ..., 0.6510, 0.6667, 0.6627]]]),\n",
              " {'area': tensor([1568.]),\n",
              "  'boxes': tensor([[382.,  28., 431.,  60.]]),\n",
              "  'image_id': tensor(0),\n",
              "  'iscrowd': tensor([0]),\n",
              "  'labels': tensor([1])})"
            ]
          },
          "metadata": {},
          "execution_count": 35
        }
      ]
    },
    {
      "cell_type": "code",
      "source": [
        "# evaluate in complete dataset\n",
        "def ReadCordinates():\n",
        "    foldername = '/content/drive/MyDrive/University of Washington - Seattle/Internship/BrainCorp/find_phone_task_4/find_phone'\n",
        "    file = open(foldername + '/labels.txt', 'r')\n",
        "    lines = file.read().splitlines()\n",
        "    obj_coordinates = {}\n",
        "    for line in lines:\n",
        "        label = line.split(' ')\n",
        "        obj_coordinates[int(label[0].replace('.jpg',\"\"))] = {'coordinates' : (float(label[1]), float(label[2]))}\n",
        "    return obj_coordinates\n",
        "\n",
        "def getFullPrediction():\n",
        "  prediction_df = pd.DataFrame(columns=['file_index','ActualX','ActualY','PredictX', 'PredictY'])\n",
        "  centerX, centerY, img_ID = [],[],[]\n",
        "  actualX, actualY = [],[]\n",
        "  allCordinates = ReadCordinates()\n",
        "  for i in range(len(complete_dataset)):\n",
        "    img, other = complete_dataset[i]\n",
        "    model.eval()\n",
        "    with torch.no_grad():\n",
        "      prediction = model([img.to(device)])\n",
        "      predictionBox = prediction[0]['boxes'].tolist()[0]\n",
        "      tempX, tempY = getCenter(predictionBox)\n",
        "      tempActualX, tempActualY = allCordinates[other['image_id'].tolist()]['coordinates']\n",
        "      centerX.append(tempX)\n",
        "      centerY.append(tempY)\n",
        "      img_ID.append(other['image_id'].tolist())\n",
        "      actualX.append(tempActualX)\n",
        "      actualY.append(tempActualY)\n",
        "\n",
        "  prediction_df['file_index'] = img_ID\n",
        "  prediction_df['PredictX'] = centerX\n",
        "  prediction_df['PredictY'] = centerY\n",
        "  prediction_df['ActualY'] = actualY\n",
        "  prediction_df['ActualX'] = actualX\n",
        "  \n",
        "  return prediction_df"
      ],
      "metadata": {
        "id": "ZteMipZVBSYI"
      },
      "execution_count": 86,
      "outputs": []
    },
    {
      "cell_type": "code",
      "source": [
        "final_prediction = getFullPrediction()\n",
        "final_prediction.head(10)\n",
        "# 1.jpg 0.8714 0.1718\n",
        "# 100.jpg 0.8204 0.8558"
      ],
      "metadata": {
        "colab": {
          "base_uri": "https://localhost:8080/",
          "height": 363
        },
        "id": "dF2knLo1DaCi",
        "outputId": "8bda89d0-1fb2-4aa2-e582-aa18aac47169"
      },
      "execution_count": 87,
      "outputs": [
        {
          "output_type": "execute_result",
          "data": {
            "text/plain": [
              "   file_index  ActualX  ActualY  PredictX  PredictY\n",
              "0           0   0.8306   0.1350    0.8316    0.1334\n",
              "1           1   0.8714   0.1718    0.8684    0.1687\n",
              "2          10   0.4918   0.4356    0.4888    0.4233\n",
              "3         100   0.8204   0.8558    0.8163    0.8558\n",
              "4         101   0.2000   0.6503    0.2000    0.6518\n",
              "5         102   0.4551   0.6258    0.4531    0.6258\n",
              "6         103   0.2490   0.7699    0.2459    0.7715\n",
              "7         104   0.7388   0.2546    0.7398    0.2531\n",
              "8         105   0.5776   0.8436    0.5765    0.8436\n",
              "9         106   0.6694   0.3804    0.6673    0.3773"
            ],
            "text/html": [
              "\n",
              "  <div id=\"df-d8eafd03-c61f-4c0e-aeb2-49f8a35baebd\">\n",
              "    <div class=\"colab-df-container\">\n",
              "      <div>\n",
              "<style scoped>\n",
              "    .dataframe tbody tr th:only-of-type {\n",
              "        vertical-align: middle;\n",
              "    }\n",
              "\n",
              "    .dataframe tbody tr th {\n",
              "        vertical-align: top;\n",
              "    }\n",
              "\n",
              "    .dataframe thead th {\n",
              "        text-align: right;\n",
              "    }\n",
              "</style>\n",
              "<table border=\"1\" class=\"dataframe\">\n",
              "  <thead>\n",
              "    <tr style=\"text-align: right;\">\n",
              "      <th></th>\n",
              "      <th>file_index</th>\n",
              "      <th>ActualX</th>\n",
              "      <th>ActualY</th>\n",
              "      <th>PredictX</th>\n",
              "      <th>PredictY</th>\n",
              "    </tr>\n",
              "  </thead>\n",
              "  <tbody>\n",
              "    <tr>\n",
              "      <th>0</th>\n",
              "      <td>0</td>\n",
              "      <td>0.8306</td>\n",
              "      <td>0.1350</td>\n",
              "      <td>0.8316</td>\n",
              "      <td>0.1334</td>\n",
              "    </tr>\n",
              "    <tr>\n",
              "      <th>1</th>\n",
              "      <td>1</td>\n",
              "      <td>0.8714</td>\n",
              "      <td>0.1718</td>\n",
              "      <td>0.8684</td>\n",
              "      <td>0.1687</td>\n",
              "    </tr>\n",
              "    <tr>\n",
              "      <th>2</th>\n",
              "      <td>10</td>\n",
              "      <td>0.4918</td>\n",
              "      <td>0.4356</td>\n",
              "      <td>0.4888</td>\n",
              "      <td>0.4233</td>\n",
              "    </tr>\n",
              "    <tr>\n",
              "      <th>3</th>\n",
              "      <td>100</td>\n",
              "      <td>0.8204</td>\n",
              "      <td>0.8558</td>\n",
              "      <td>0.8163</td>\n",
              "      <td>0.8558</td>\n",
              "    </tr>\n",
              "    <tr>\n",
              "      <th>4</th>\n",
              "      <td>101</td>\n",
              "      <td>0.2000</td>\n",
              "      <td>0.6503</td>\n",
              "      <td>0.2000</td>\n",
              "      <td>0.6518</td>\n",
              "    </tr>\n",
              "    <tr>\n",
              "      <th>5</th>\n",
              "      <td>102</td>\n",
              "      <td>0.4551</td>\n",
              "      <td>0.6258</td>\n",
              "      <td>0.4531</td>\n",
              "      <td>0.6258</td>\n",
              "    </tr>\n",
              "    <tr>\n",
              "      <th>6</th>\n",
              "      <td>103</td>\n",
              "      <td>0.2490</td>\n",
              "      <td>0.7699</td>\n",
              "      <td>0.2459</td>\n",
              "      <td>0.7715</td>\n",
              "    </tr>\n",
              "    <tr>\n",
              "      <th>7</th>\n",
              "      <td>104</td>\n",
              "      <td>0.7388</td>\n",
              "      <td>0.2546</td>\n",
              "      <td>0.7398</td>\n",
              "      <td>0.2531</td>\n",
              "    </tr>\n",
              "    <tr>\n",
              "      <th>8</th>\n",
              "      <td>105</td>\n",
              "      <td>0.5776</td>\n",
              "      <td>0.8436</td>\n",
              "      <td>0.5765</td>\n",
              "      <td>0.8436</td>\n",
              "    </tr>\n",
              "    <tr>\n",
              "      <th>9</th>\n",
              "      <td>106</td>\n",
              "      <td>0.6694</td>\n",
              "      <td>0.3804</td>\n",
              "      <td>0.6673</td>\n",
              "      <td>0.3773</td>\n",
              "    </tr>\n",
              "  </tbody>\n",
              "</table>\n",
              "</div>\n",
              "      <button class=\"colab-df-convert\" onclick=\"convertToInteractive('df-d8eafd03-c61f-4c0e-aeb2-49f8a35baebd')\"\n",
              "              title=\"Convert this dataframe to an interactive table.\"\n",
              "              style=\"display:none;\">\n",
              "        \n",
              "  <svg xmlns=\"http://www.w3.org/2000/svg\" height=\"24px\"viewBox=\"0 0 24 24\"\n",
              "       width=\"24px\">\n",
              "    <path d=\"M0 0h24v24H0V0z\" fill=\"none\"/>\n",
              "    <path d=\"M18.56 5.44l.94 2.06.94-2.06 2.06-.94-2.06-.94-.94-2.06-.94 2.06-2.06.94zm-11 1L8.5 8.5l.94-2.06 2.06-.94-2.06-.94L8.5 2.5l-.94 2.06-2.06.94zm10 10l.94 2.06.94-2.06 2.06-.94-2.06-.94-.94-2.06-.94 2.06-2.06.94z\"/><path d=\"M17.41 7.96l-1.37-1.37c-.4-.4-.92-.59-1.43-.59-.52 0-1.04.2-1.43.59L10.3 9.45l-7.72 7.72c-.78.78-.78 2.05 0 2.83L4 21.41c.39.39.9.59 1.41.59.51 0 1.02-.2 1.41-.59l7.78-7.78 2.81-2.81c.8-.78.8-2.07 0-2.86zM5.41 20L4 18.59l7.72-7.72 1.47 1.35L5.41 20z\"/>\n",
              "  </svg>\n",
              "      </button>\n",
              "      \n",
              "  <style>\n",
              "    .colab-df-container {\n",
              "      display:flex;\n",
              "      flex-wrap:wrap;\n",
              "      gap: 12px;\n",
              "    }\n",
              "\n",
              "    .colab-df-convert {\n",
              "      background-color: #E8F0FE;\n",
              "      border: none;\n",
              "      border-radius: 50%;\n",
              "      cursor: pointer;\n",
              "      display: none;\n",
              "      fill: #1967D2;\n",
              "      height: 32px;\n",
              "      padding: 0 0 0 0;\n",
              "      width: 32px;\n",
              "    }\n",
              "\n",
              "    .colab-df-convert:hover {\n",
              "      background-color: #E2EBFA;\n",
              "      box-shadow: 0px 1px 2px rgba(60, 64, 67, 0.3), 0px 1px 3px 1px rgba(60, 64, 67, 0.15);\n",
              "      fill: #174EA6;\n",
              "    }\n",
              "\n",
              "    [theme=dark] .colab-df-convert {\n",
              "      background-color: #3B4455;\n",
              "      fill: #D2E3FC;\n",
              "    }\n",
              "\n",
              "    [theme=dark] .colab-df-convert:hover {\n",
              "      background-color: #434B5C;\n",
              "      box-shadow: 0px 1px 3px 1px rgba(0, 0, 0, 0.15);\n",
              "      filter: drop-shadow(0px 1px 2px rgba(0, 0, 0, 0.3));\n",
              "      fill: #FFFFFF;\n",
              "    }\n",
              "  </style>\n",
              "\n",
              "      <script>\n",
              "        const buttonEl =\n",
              "          document.querySelector('#df-d8eafd03-c61f-4c0e-aeb2-49f8a35baebd button.colab-df-convert');\n",
              "        buttonEl.style.display =\n",
              "          google.colab.kernel.accessAllowed ? 'block' : 'none';\n",
              "\n",
              "        async function convertToInteractive(key) {\n",
              "          const element = document.querySelector('#df-d8eafd03-c61f-4c0e-aeb2-49f8a35baebd');\n",
              "          const dataTable =\n",
              "            await google.colab.kernel.invokeFunction('convertToInteractive',\n",
              "                                                     [key], {});\n",
              "          if (!dataTable) return;\n",
              "\n",
              "          const docLinkHtml = 'Like what you see? Visit the ' +\n",
              "            '<a target=\"_blank\" href=https://colab.research.google.com/notebooks/data_table.ipynb>data table notebook</a>'\n",
              "            + ' to learn more about interactive tables.';\n",
              "          element.innerHTML = '';\n",
              "          dataTable['output_type'] = 'display_data';\n",
              "          await google.colab.output.renderOutput(dataTable, element);\n",
              "          const docLink = document.createElement('div');\n",
              "          docLink.innerHTML = docLinkHtml;\n",
              "          element.appendChild(docLink);\n",
              "        }\n",
              "      </script>\n",
              "    </div>\n",
              "  </div>\n",
              "  "
            ]
          },
          "metadata": {},
          "execution_count": 87
        }
      ]
    },
    {
      "cell_type": "code",
      "source": [
        "import numpy as np\n",
        "final_prediction['diffDistance'] = np.sqrt((final_prediction['ActualX']-final_prediction['PredictX'])**2 +\n",
        "                                   (final_prediction['ActualY']-final_prediction['PredictY'])**2)"
      ],
      "metadata": {
        "id": "OJJVyKNlF6bx"
      },
      "execution_count": 89,
      "outputs": []
    },
    {
      "cell_type": "code",
      "source": [
        "final_prediction['Outcome'] = final_prediction['diffDistance'] <= 0.05"
      ],
      "metadata": {
        "id": "vqRQPhH7T-R3"
      },
      "execution_count": 94,
      "outputs": []
    },
    {
      "cell_type": "code",
      "source": [
        "final_prediction['Outcome'].sum()"
      ],
      "metadata": {
        "colab": {
          "base_uri": "https://localhost:8080/"
        },
        "id": "Yxh6rusPUrsn",
        "outputId": "3cfe8378-62d7-402f-9899-213d70471d17"
      },
      "execution_count": 96,
      "outputs": [
        {
          "output_type": "execute_result",
          "data": {
            "text/plain": [
              "129"
            ]
          },
          "metadata": {},
          "execution_count": 96
        }
      ]
    },
    {
      "cell_type": "code",
      "source": [
        "outcomePATH = '/content/drive/MyDrive/University of Washington - Seattle/Internship/BrainCorp/find_phone_task_4/outcomes/Outcome_all_Images.csv'\n",
        "final_prediction.to_csv(outcomePATH)"
      ],
      "metadata": {
        "id": "OWg7pQtAJicP"
      },
      "execution_count": 100,
      "outputs": []
    },
    {
      "cell_type": "code",
      "source": [
        "imgPATH = '/content/drive/MyDrive/University of Washington - Seattle/Internship/BrainCorp/find_phone_task_4/find_phone/0.jpg'\n",
        "img = cv.imread(imgPATH)\n",
        "img.shape, img.shape[0]"
      ],
      "metadata": {
        "colab": {
          "base_uri": "https://localhost:8080/"
        },
        "id": "DxKIWtdMKr1L",
        "outputId": "cb61d64c-4c14-4279-8ef4-7873e35a4021"
      },
      "execution_count": 116,
      "outputs": [
        {
          "output_type": "execute_result",
          "data": {
            "text/plain": [
              "((326, 490, 3), 326)"
            ]
          },
          "metadata": {},
          "execution_count": 116
        }
      ]
    },
    {
      "cell_type": "code",
      "source": [
        "img = torch.from_numpy(img)\n",
        "img = img.permute(2,0,1)\n",
        "img.shape"
      ],
      "metadata": {
        "colab": {
          "base_uri": "https://localhost:8080/"
        },
        "id": "IvcSekxnmaM2",
        "outputId": "ca3f66f5-5f45-4eec-b2aa-142de980acb7"
      },
      "execution_count": 114,
      "outputs": [
        {
          "output_type": "execute_result",
          "data": {
            "text/plain": [
              "torch.Size([3, 326, 490])"
            ]
          },
          "metadata": {},
          "execution_count": 114
        }
      ]
    },
    {
      "cell_type": "code",
      "source": [
        "def ImageToTensor(imgPATH): \n",
        "    img = Image.open(imgPATH).convert(\"RGB\")\n",
        "    img = T.ToTensor()(img)\n",
        "    # print(img.shape)\n",
        "    return img\n",
        "\n",
        "def getCenter(prediction, XLen, YLen):\n",
        "    prediction = prediction[0]['boxes'].tolist()[0]\n",
        "    centerX = ( prediction[0] + prediction[2] )/(2 * XLen)\n",
        "    centerY = ( prediction[1] + prediction[3] )/(2 * YLen)\n",
        "    return round(centerX,4), round(centerY,4)\n",
        "\n",
        "def getPrediction(imgPATH, model):\n",
        "    device = torch.device('cuda') if torch.cuda.is_available() else torch.device('cpu')\n",
        "    img = ImageToTensor(imgPATH)\n",
        "    with torch.no_grad():\n",
        "        prediction = model([img.to(device)])\n",
        "    # print(img.shape[1], img.shape[2])\n",
        "    return getCenter(prediction, img.shape[2], img.shape[1])\n",
        "    "
      ],
      "metadata": {
        "id": "1zIPogp_mbHF"
      },
      "execution_count": 131,
      "outputs": []
    },
    {
      "cell_type": "code",
      "source": [
        "getPrediction(imgPATH, model)"
      ],
      "metadata": {
        "colab": {
          "base_uri": "https://localhost:8080/"
        },
        "id": "DWMlWkyEp27P",
        "outputId": "fae54ace-912c-4b37-bc44-ae1071c2ed69"
      },
      "execution_count": 132,
      "outputs": [
        {
          "output_type": "stream",
          "name": "stdout",
          "text": [
            "torch.Size([3, 326, 490])\n"
          ]
        },
        {
          "output_type": "execute_result",
          "data": {
            "text/plain": [
              "(0.831, 0.1344)"
            ]
          },
          "metadata": {},
          "execution_count": 132
        }
      ]
    },
    {
      "cell_type": "code",
      "source": [
        "model = torchvision.models.detection.fasterrcnn_resnet50_fpn(pretrained=False)"
      ],
      "metadata": {
        "colab": {
          "base_uri": "https://localhost:8080/",
          "height": 66,
          "referenced_widgets": [
            "3b36ac8b62d848babbbccafd483e78b9",
            "02c4782398d54041b495286777d7f280",
            "88d01cef3c2f4c84ac133a5e09919b37",
            "a71403d1f4e742b5bac4225dda168d79",
            "7a33235daf144af1b85c264ba38c4c90",
            "087ed2906fea480d9dad4b7bdee4fb2f",
            "7373f670e9bc46a2b30e11d41ebb999b",
            "68cfd12f0684420882c6df41fb9eb208",
            "f86f64a7bf154d3294a8cd685a2e8528",
            "a27c8b83a10e4bb4be4c9942346d98cb",
            "74f9c2284d4443d0aacf5305501597af"
          ]
        },
        "id": "Kh9sUOiHp8v9",
        "outputId": "21d45791-83bd-4a57-9db7-83fee7280f72"
      },
      "execution_count": 133,
      "outputs": [
        {
          "output_type": "stream",
          "name": "stderr",
          "text": [
            "Downloading: \"https://download.pytorch.org/models/resnet50-0676ba61.pth\" to /root/.cache/torch/hub/checkpoints/resnet50-0676ba61.pth\n"
          ]
        },
        {
          "output_type": "display_data",
          "data": {
            "text/plain": [
              "  0%|          | 0.00/97.8M [00:00<?, ?B/s]"
            ],
            "application/vnd.jupyter.widget-view+json": {
              "version_major": 2,
              "version_minor": 0,
              "model_id": "3b36ac8b62d848babbbccafd483e78b9"
            }
          },
          "metadata": {}
        }
      ]
    },
    {
      "cell_type": "code",
      "source": [
        ""
      ],
      "metadata": {
        "id": "01Wx0eiN5j2l"
      },
      "execution_count": null,
      "outputs": []
    }
  ],
  "metadata": {
    "interpreter": {
      "hash": "c95252c0ead8ddfce4c60e5d9694187cbf631663d47c2c7bdc62d1aa5730e7a1"
    },
    "kernelspec": {
      "display_name": "Python 3.9.7 ('base')",
      "language": "python",
      "name": "python3"
    },
    "language_info": {
      "codemirror_mode": {
        "name": "ipython",
        "version": 3
      },
      "file_extension": ".py",
      "mimetype": "text/x-python",
      "name": "python",
      "nbconvert_exporter": "python",
      "pygments_lexer": "ipython3",
      "version": "3.9.7"
    },
    "orig_nbformat": 4,
    "colab": {
      "name": "FindPhoneAlgo.ipynb",
      "provenance": [],
      "collapsed_sections": []
    },
    "accelerator": "GPU",
    "widgets": {
      "application/vnd.jupyter.widget-state+json": {
        "eaae0417056a4d83a04556877dc42fd9": {
          "model_module": "@jupyter-widgets/controls",
          "model_name": "HBoxModel",
          "model_module_version": "1.5.0",
          "state": {
            "_dom_classes": [],
            "_model_module": "@jupyter-widgets/controls",
            "_model_module_version": "1.5.0",
            "_model_name": "HBoxModel",
            "_view_count": null,
            "_view_module": "@jupyter-widgets/controls",
            "_view_module_version": "1.5.0",
            "_view_name": "HBoxView",
            "box_style": "",
            "children": [
              "IPY_MODEL_2d7d7e7d494349a18a39175f52470c7d",
              "IPY_MODEL_85f367993427448eb1b450ff159b3b57",
              "IPY_MODEL_4b83c52489564a83ac27710b75f25907"
            ],
            "layout": "IPY_MODEL_811682add3944be2ae9f9e7175b3b963"
          }
        },
        "2d7d7e7d494349a18a39175f52470c7d": {
          "model_module": "@jupyter-widgets/controls",
          "model_name": "HTMLModel",
          "model_module_version": "1.5.0",
          "state": {
            "_dom_classes": [],
            "_model_module": "@jupyter-widgets/controls",
            "_model_module_version": "1.5.0",
            "_model_name": "HTMLModel",
            "_view_count": null,
            "_view_module": "@jupyter-widgets/controls",
            "_view_module_version": "1.5.0",
            "_view_name": "HTMLView",
            "description": "",
            "description_tooltip": null,
            "layout": "IPY_MODEL_c6145f4d20a6485cbe4903358b39201c",
            "placeholder": "​",
            "style": "IPY_MODEL_f6b7faf4d0684f6c98eb42efa79e85b4",
            "value": "100%"
          }
        },
        "85f367993427448eb1b450ff159b3b57": {
          "model_module": "@jupyter-widgets/controls",
          "model_name": "FloatProgressModel",
          "model_module_version": "1.5.0",
          "state": {
            "_dom_classes": [],
            "_model_module": "@jupyter-widgets/controls",
            "_model_module_version": "1.5.0",
            "_model_name": "FloatProgressModel",
            "_view_count": null,
            "_view_module": "@jupyter-widgets/controls",
            "_view_module_version": "1.5.0",
            "_view_name": "ProgressView",
            "bar_style": "success",
            "description": "",
            "description_tooltip": null,
            "layout": "IPY_MODEL_d0510875340842adbc96b0f1d29aa004",
            "max": 167502836,
            "min": 0,
            "orientation": "horizontal",
            "style": "IPY_MODEL_c56c4f075d6f432d89c8aa4daafd3897",
            "value": 167502836
          }
        },
        "4b83c52489564a83ac27710b75f25907": {
          "model_module": "@jupyter-widgets/controls",
          "model_name": "HTMLModel",
          "model_module_version": "1.5.0",
          "state": {
            "_dom_classes": [],
            "_model_module": "@jupyter-widgets/controls",
            "_model_module_version": "1.5.0",
            "_model_name": "HTMLModel",
            "_view_count": null,
            "_view_module": "@jupyter-widgets/controls",
            "_view_module_version": "1.5.0",
            "_view_name": "HTMLView",
            "description": "",
            "description_tooltip": null,
            "layout": "IPY_MODEL_68cd096c14b94e648fd8f314ab467549",
            "placeholder": "​",
            "style": "IPY_MODEL_567d40572782477084c753fcbbed1b64",
            "value": " 160M/160M [00:01&lt;00:00, 137MB/s]"
          }
        },
        "811682add3944be2ae9f9e7175b3b963": {
          "model_module": "@jupyter-widgets/base",
          "model_name": "LayoutModel",
          "model_module_version": "1.2.0",
          "state": {
            "_model_module": "@jupyter-widgets/base",
            "_model_module_version": "1.2.0",
            "_model_name": "LayoutModel",
            "_view_count": null,
            "_view_module": "@jupyter-widgets/base",
            "_view_module_version": "1.2.0",
            "_view_name": "LayoutView",
            "align_content": null,
            "align_items": null,
            "align_self": null,
            "border": null,
            "bottom": null,
            "display": null,
            "flex": null,
            "flex_flow": null,
            "grid_area": null,
            "grid_auto_columns": null,
            "grid_auto_flow": null,
            "grid_auto_rows": null,
            "grid_column": null,
            "grid_gap": null,
            "grid_row": null,
            "grid_template_areas": null,
            "grid_template_columns": null,
            "grid_template_rows": null,
            "height": null,
            "justify_content": null,
            "justify_items": null,
            "left": null,
            "margin": null,
            "max_height": null,
            "max_width": null,
            "min_height": null,
            "min_width": null,
            "object_fit": null,
            "object_position": null,
            "order": null,
            "overflow": null,
            "overflow_x": null,
            "overflow_y": null,
            "padding": null,
            "right": null,
            "top": null,
            "visibility": null,
            "width": null
          }
        },
        "c6145f4d20a6485cbe4903358b39201c": {
          "model_module": "@jupyter-widgets/base",
          "model_name": "LayoutModel",
          "model_module_version": "1.2.0",
          "state": {
            "_model_module": "@jupyter-widgets/base",
            "_model_module_version": "1.2.0",
            "_model_name": "LayoutModel",
            "_view_count": null,
            "_view_module": "@jupyter-widgets/base",
            "_view_module_version": "1.2.0",
            "_view_name": "LayoutView",
            "align_content": null,
            "align_items": null,
            "align_self": null,
            "border": null,
            "bottom": null,
            "display": null,
            "flex": null,
            "flex_flow": null,
            "grid_area": null,
            "grid_auto_columns": null,
            "grid_auto_flow": null,
            "grid_auto_rows": null,
            "grid_column": null,
            "grid_gap": null,
            "grid_row": null,
            "grid_template_areas": null,
            "grid_template_columns": null,
            "grid_template_rows": null,
            "height": null,
            "justify_content": null,
            "justify_items": null,
            "left": null,
            "margin": null,
            "max_height": null,
            "max_width": null,
            "min_height": null,
            "min_width": null,
            "object_fit": null,
            "object_position": null,
            "order": null,
            "overflow": null,
            "overflow_x": null,
            "overflow_y": null,
            "padding": null,
            "right": null,
            "top": null,
            "visibility": null,
            "width": null
          }
        },
        "f6b7faf4d0684f6c98eb42efa79e85b4": {
          "model_module": "@jupyter-widgets/controls",
          "model_name": "DescriptionStyleModel",
          "model_module_version": "1.5.0",
          "state": {
            "_model_module": "@jupyter-widgets/controls",
            "_model_module_version": "1.5.0",
            "_model_name": "DescriptionStyleModel",
            "_view_count": null,
            "_view_module": "@jupyter-widgets/base",
            "_view_module_version": "1.2.0",
            "_view_name": "StyleView",
            "description_width": ""
          }
        },
        "d0510875340842adbc96b0f1d29aa004": {
          "model_module": "@jupyter-widgets/base",
          "model_name": "LayoutModel",
          "model_module_version": "1.2.0",
          "state": {
            "_model_module": "@jupyter-widgets/base",
            "_model_module_version": "1.2.0",
            "_model_name": "LayoutModel",
            "_view_count": null,
            "_view_module": "@jupyter-widgets/base",
            "_view_module_version": "1.2.0",
            "_view_name": "LayoutView",
            "align_content": null,
            "align_items": null,
            "align_self": null,
            "border": null,
            "bottom": null,
            "display": null,
            "flex": null,
            "flex_flow": null,
            "grid_area": null,
            "grid_auto_columns": null,
            "grid_auto_flow": null,
            "grid_auto_rows": null,
            "grid_column": null,
            "grid_gap": null,
            "grid_row": null,
            "grid_template_areas": null,
            "grid_template_columns": null,
            "grid_template_rows": null,
            "height": null,
            "justify_content": null,
            "justify_items": null,
            "left": null,
            "margin": null,
            "max_height": null,
            "max_width": null,
            "min_height": null,
            "min_width": null,
            "object_fit": null,
            "object_position": null,
            "order": null,
            "overflow": null,
            "overflow_x": null,
            "overflow_y": null,
            "padding": null,
            "right": null,
            "top": null,
            "visibility": null,
            "width": null
          }
        },
        "c56c4f075d6f432d89c8aa4daafd3897": {
          "model_module": "@jupyter-widgets/controls",
          "model_name": "ProgressStyleModel",
          "model_module_version": "1.5.0",
          "state": {
            "_model_module": "@jupyter-widgets/controls",
            "_model_module_version": "1.5.0",
            "_model_name": "ProgressStyleModel",
            "_view_count": null,
            "_view_module": "@jupyter-widgets/base",
            "_view_module_version": "1.2.0",
            "_view_name": "StyleView",
            "bar_color": null,
            "description_width": ""
          }
        },
        "68cd096c14b94e648fd8f314ab467549": {
          "model_module": "@jupyter-widgets/base",
          "model_name": "LayoutModel",
          "model_module_version": "1.2.0",
          "state": {
            "_model_module": "@jupyter-widgets/base",
            "_model_module_version": "1.2.0",
            "_model_name": "LayoutModel",
            "_view_count": null,
            "_view_module": "@jupyter-widgets/base",
            "_view_module_version": "1.2.0",
            "_view_name": "LayoutView",
            "align_content": null,
            "align_items": null,
            "align_self": null,
            "border": null,
            "bottom": null,
            "display": null,
            "flex": null,
            "flex_flow": null,
            "grid_area": null,
            "grid_auto_columns": null,
            "grid_auto_flow": null,
            "grid_auto_rows": null,
            "grid_column": null,
            "grid_gap": null,
            "grid_row": null,
            "grid_template_areas": null,
            "grid_template_columns": null,
            "grid_template_rows": null,
            "height": null,
            "justify_content": null,
            "justify_items": null,
            "left": null,
            "margin": null,
            "max_height": null,
            "max_width": null,
            "min_height": null,
            "min_width": null,
            "object_fit": null,
            "object_position": null,
            "order": null,
            "overflow": null,
            "overflow_x": null,
            "overflow_y": null,
            "padding": null,
            "right": null,
            "top": null,
            "visibility": null,
            "width": null
          }
        },
        "567d40572782477084c753fcbbed1b64": {
          "model_module": "@jupyter-widgets/controls",
          "model_name": "DescriptionStyleModel",
          "model_module_version": "1.5.0",
          "state": {
            "_model_module": "@jupyter-widgets/controls",
            "_model_module_version": "1.5.0",
            "_model_name": "DescriptionStyleModel",
            "_view_count": null,
            "_view_module": "@jupyter-widgets/base",
            "_view_module_version": "1.2.0",
            "_view_name": "StyleView",
            "description_width": ""
          }
        },
        "3b36ac8b62d848babbbccafd483e78b9": {
          "model_module": "@jupyter-widgets/controls",
          "model_name": "HBoxModel",
          "model_module_version": "1.5.0",
          "state": {
            "_dom_classes": [],
            "_model_module": "@jupyter-widgets/controls",
            "_model_module_version": "1.5.0",
            "_model_name": "HBoxModel",
            "_view_count": null,
            "_view_module": "@jupyter-widgets/controls",
            "_view_module_version": "1.5.0",
            "_view_name": "HBoxView",
            "box_style": "",
            "children": [
              "IPY_MODEL_02c4782398d54041b495286777d7f280",
              "IPY_MODEL_88d01cef3c2f4c84ac133a5e09919b37",
              "IPY_MODEL_a71403d1f4e742b5bac4225dda168d79"
            ],
            "layout": "IPY_MODEL_7a33235daf144af1b85c264ba38c4c90"
          }
        },
        "02c4782398d54041b495286777d7f280": {
          "model_module": "@jupyter-widgets/controls",
          "model_name": "HTMLModel",
          "model_module_version": "1.5.0",
          "state": {
            "_dom_classes": [],
            "_model_module": "@jupyter-widgets/controls",
            "_model_module_version": "1.5.0",
            "_model_name": "HTMLModel",
            "_view_count": null,
            "_view_module": "@jupyter-widgets/controls",
            "_view_module_version": "1.5.0",
            "_view_name": "HTMLView",
            "description": "",
            "description_tooltip": null,
            "layout": "IPY_MODEL_087ed2906fea480d9dad4b7bdee4fb2f",
            "placeholder": "​",
            "style": "IPY_MODEL_7373f670e9bc46a2b30e11d41ebb999b",
            "value": "100%"
          }
        },
        "88d01cef3c2f4c84ac133a5e09919b37": {
          "model_module": "@jupyter-widgets/controls",
          "model_name": "FloatProgressModel",
          "model_module_version": "1.5.0",
          "state": {
            "_dom_classes": [],
            "_model_module": "@jupyter-widgets/controls",
            "_model_module_version": "1.5.0",
            "_model_name": "FloatProgressModel",
            "_view_count": null,
            "_view_module": "@jupyter-widgets/controls",
            "_view_module_version": "1.5.0",
            "_view_name": "ProgressView",
            "bar_style": "success",
            "description": "",
            "description_tooltip": null,
            "layout": "IPY_MODEL_68cfd12f0684420882c6df41fb9eb208",
            "max": 102530333,
            "min": 0,
            "orientation": "horizontal",
            "style": "IPY_MODEL_f86f64a7bf154d3294a8cd685a2e8528",
            "value": 102530333
          }
        },
        "a71403d1f4e742b5bac4225dda168d79": {
          "model_module": "@jupyter-widgets/controls",
          "model_name": "HTMLModel",
          "model_module_version": "1.5.0",
          "state": {
            "_dom_classes": [],
            "_model_module": "@jupyter-widgets/controls",
            "_model_module_version": "1.5.0",
            "_model_name": "HTMLModel",
            "_view_count": null,
            "_view_module": "@jupyter-widgets/controls",
            "_view_module_version": "1.5.0",
            "_view_name": "HTMLView",
            "description": "",
            "description_tooltip": null,
            "layout": "IPY_MODEL_a27c8b83a10e4bb4be4c9942346d98cb",
            "placeholder": "​",
            "style": "IPY_MODEL_74f9c2284d4443d0aacf5305501597af",
            "value": " 97.8M/97.8M [00:02&lt;00:00, 53.5MB/s]"
          }
        },
        "7a33235daf144af1b85c264ba38c4c90": {
          "model_module": "@jupyter-widgets/base",
          "model_name": "LayoutModel",
          "model_module_version": "1.2.0",
          "state": {
            "_model_module": "@jupyter-widgets/base",
            "_model_module_version": "1.2.0",
            "_model_name": "LayoutModel",
            "_view_count": null,
            "_view_module": "@jupyter-widgets/base",
            "_view_module_version": "1.2.0",
            "_view_name": "LayoutView",
            "align_content": null,
            "align_items": null,
            "align_self": null,
            "border": null,
            "bottom": null,
            "display": null,
            "flex": null,
            "flex_flow": null,
            "grid_area": null,
            "grid_auto_columns": null,
            "grid_auto_flow": null,
            "grid_auto_rows": null,
            "grid_column": null,
            "grid_gap": null,
            "grid_row": null,
            "grid_template_areas": null,
            "grid_template_columns": null,
            "grid_template_rows": null,
            "height": null,
            "justify_content": null,
            "justify_items": null,
            "left": null,
            "margin": null,
            "max_height": null,
            "max_width": null,
            "min_height": null,
            "min_width": null,
            "object_fit": null,
            "object_position": null,
            "order": null,
            "overflow": null,
            "overflow_x": null,
            "overflow_y": null,
            "padding": null,
            "right": null,
            "top": null,
            "visibility": null,
            "width": null
          }
        },
        "087ed2906fea480d9dad4b7bdee4fb2f": {
          "model_module": "@jupyter-widgets/base",
          "model_name": "LayoutModel",
          "model_module_version": "1.2.0",
          "state": {
            "_model_module": "@jupyter-widgets/base",
            "_model_module_version": "1.2.0",
            "_model_name": "LayoutModel",
            "_view_count": null,
            "_view_module": "@jupyter-widgets/base",
            "_view_module_version": "1.2.0",
            "_view_name": "LayoutView",
            "align_content": null,
            "align_items": null,
            "align_self": null,
            "border": null,
            "bottom": null,
            "display": null,
            "flex": null,
            "flex_flow": null,
            "grid_area": null,
            "grid_auto_columns": null,
            "grid_auto_flow": null,
            "grid_auto_rows": null,
            "grid_column": null,
            "grid_gap": null,
            "grid_row": null,
            "grid_template_areas": null,
            "grid_template_columns": null,
            "grid_template_rows": null,
            "height": null,
            "justify_content": null,
            "justify_items": null,
            "left": null,
            "margin": null,
            "max_height": null,
            "max_width": null,
            "min_height": null,
            "min_width": null,
            "object_fit": null,
            "object_position": null,
            "order": null,
            "overflow": null,
            "overflow_x": null,
            "overflow_y": null,
            "padding": null,
            "right": null,
            "top": null,
            "visibility": null,
            "width": null
          }
        },
        "7373f670e9bc46a2b30e11d41ebb999b": {
          "model_module": "@jupyter-widgets/controls",
          "model_name": "DescriptionStyleModel",
          "model_module_version": "1.5.0",
          "state": {
            "_model_module": "@jupyter-widgets/controls",
            "_model_module_version": "1.5.0",
            "_model_name": "DescriptionStyleModel",
            "_view_count": null,
            "_view_module": "@jupyter-widgets/base",
            "_view_module_version": "1.2.0",
            "_view_name": "StyleView",
            "description_width": ""
          }
        },
        "68cfd12f0684420882c6df41fb9eb208": {
          "model_module": "@jupyter-widgets/base",
          "model_name": "LayoutModel",
          "model_module_version": "1.2.0",
          "state": {
            "_model_module": "@jupyter-widgets/base",
            "_model_module_version": "1.2.0",
            "_model_name": "LayoutModel",
            "_view_count": null,
            "_view_module": "@jupyter-widgets/base",
            "_view_module_version": "1.2.0",
            "_view_name": "LayoutView",
            "align_content": null,
            "align_items": null,
            "align_self": null,
            "border": null,
            "bottom": null,
            "display": null,
            "flex": null,
            "flex_flow": null,
            "grid_area": null,
            "grid_auto_columns": null,
            "grid_auto_flow": null,
            "grid_auto_rows": null,
            "grid_column": null,
            "grid_gap": null,
            "grid_row": null,
            "grid_template_areas": null,
            "grid_template_columns": null,
            "grid_template_rows": null,
            "height": null,
            "justify_content": null,
            "justify_items": null,
            "left": null,
            "margin": null,
            "max_height": null,
            "max_width": null,
            "min_height": null,
            "min_width": null,
            "object_fit": null,
            "object_position": null,
            "order": null,
            "overflow": null,
            "overflow_x": null,
            "overflow_y": null,
            "padding": null,
            "right": null,
            "top": null,
            "visibility": null,
            "width": null
          }
        },
        "f86f64a7bf154d3294a8cd685a2e8528": {
          "model_module": "@jupyter-widgets/controls",
          "model_name": "ProgressStyleModel",
          "model_module_version": "1.5.0",
          "state": {
            "_model_module": "@jupyter-widgets/controls",
            "_model_module_version": "1.5.0",
            "_model_name": "ProgressStyleModel",
            "_view_count": null,
            "_view_module": "@jupyter-widgets/base",
            "_view_module_version": "1.2.0",
            "_view_name": "StyleView",
            "bar_color": null,
            "description_width": ""
          }
        },
        "a27c8b83a10e4bb4be4c9942346d98cb": {
          "model_module": "@jupyter-widgets/base",
          "model_name": "LayoutModel",
          "model_module_version": "1.2.0",
          "state": {
            "_model_module": "@jupyter-widgets/base",
            "_model_module_version": "1.2.0",
            "_model_name": "LayoutModel",
            "_view_count": null,
            "_view_module": "@jupyter-widgets/base",
            "_view_module_version": "1.2.0",
            "_view_name": "LayoutView",
            "align_content": null,
            "align_items": null,
            "align_self": null,
            "border": null,
            "bottom": null,
            "display": null,
            "flex": null,
            "flex_flow": null,
            "grid_area": null,
            "grid_auto_columns": null,
            "grid_auto_flow": null,
            "grid_auto_rows": null,
            "grid_column": null,
            "grid_gap": null,
            "grid_row": null,
            "grid_template_areas": null,
            "grid_template_columns": null,
            "grid_template_rows": null,
            "height": null,
            "justify_content": null,
            "justify_items": null,
            "left": null,
            "margin": null,
            "max_height": null,
            "max_width": null,
            "min_height": null,
            "min_width": null,
            "object_fit": null,
            "object_position": null,
            "order": null,
            "overflow": null,
            "overflow_x": null,
            "overflow_y": null,
            "padding": null,
            "right": null,
            "top": null,
            "visibility": null,
            "width": null
          }
        },
        "74f9c2284d4443d0aacf5305501597af": {
          "model_module": "@jupyter-widgets/controls",
          "model_name": "DescriptionStyleModel",
          "model_module_version": "1.5.0",
          "state": {
            "_model_module": "@jupyter-widgets/controls",
            "_model_module_version": "1.5.0",
            "_model_name": "DescriptionStyleModel",
            "_view_count": null,
            "_view_module": "@jupyter-widgets/base",
            "_view_module_version": "1.2.0",
            "_view_name": "StyleView",
            "description_width": ""
          }
        }
      }
    }
  },
  "nbformat": 4,
  "nbformat_minor": 0
}